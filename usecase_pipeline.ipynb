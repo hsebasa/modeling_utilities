{
 "cells": [
  {
   "cell_type": "code",
   "execution_count": 1,
   "id": "fec00815-c989-4ce4-b5cc-1a2386aef01e",
   "metadata": {},
   "outputs": [],
   "source": [
    "# pip install frozendict \n",
    "# pip install pyarrow\n",
    "# pip install -e ./streamline_package\n",
    "# pip install ray[default]"
   ]
  },
  {
   "cell_type": "code",
   "execution_count": 2,
   "id": "23a8b865-ec38-44a7-b700-dc9e71463728",
   "metadata": {},
   "outputs": [],
   "source": [
    "%load_ext autoreload\n",
    "%autoreload 2"
   ]
  },
  {
   "cell_type": "code",
   "execution_count": 3,
   "id": "39997db8-0db2-420a-a73d-2afc2e64379f",
   "metadata": {},
   "outputs": [],
   "source": [
    "from streamline.delayed import delay_lib, step, Delayed, eval_delay\n",
    "from streamline import RunEnv, load_runenv, Pipeline, Function, Var\n",
    "from streamline.utilities import mainify"
   ]
  },
  {
   "cell_type": "code",
   "execution_count": 4,
   "id": "5079d91e-c2df-4d50-b941-99de18843469",
   "metadata": {},
   "outputs": [],
   "source": [
    "from typing import *\n",
    "import pandas as pd"
   ]
  },
  {
   "cell_type": "code",
   "execution_count": 5,
   "id": "deb70ea3-8b7e-435d-8562-8da58be6ca6c",
   "metadata": {},
   "outputs": [
    {
     "name": "stderr",
     "output_type": "stream",
     "text": [
      "2025-03-17 21:57:07,479\tINFO worker.py:1832 -- Started a local Ray instance. View the dashboard at \u001b[1m\u001b[32mhttp://127.0.0.1:8266 \u001b[39m\u001b[22m\n"
     ]
    },
    {
     "data": {
      "application/vnd.jupyter.widget-view+json": {
       "model_id": "93a7794b8ad141d3be4a3980629598a2",
       "version_major": 2,
       "version_minor": 0
      },
      "text/html": [
       "<div class=\"lm-Widget p-Widget lm-Panel p-Panel jp-Cell-outputWrapper\">\n",
       "    <div style=\"margin-left: 50px;display: flex;flex-direction: row;align-items: center\">\n",
       "        <div class=\"jp-RenderedHTMLCommon\" style=\"display: flex; flex-direction: row;\">\n",
       "  <svg viewBox=\"0 0 567 224\" fill=\"none\" xmlns=\"http://www.w3.org/2000/svg\" style=\"height: 3em;\">\n",
       "    <g clip-path=\"url(#clip0_4338_178347)\">\n",
       "        <path d=\"M341.29 165.561H355.29L330.13 129.051C345.63 123.991 354.21 112.051 354.21 94.2307C354.21 71.3707 338.72 58.1807 311.88 58.1807H271V165.561H283.27V131.661H311.8C314.25 131.661 316.71 131.501 319.01 131.351L341.25 165.561H341.29ZM283.29 119.851V70.0007H311.82C331.3 70.0007 342.34 78.2907 342.34 94.5507C342.34 111.271 331.34 119.861 311.82 119.861L283.29 119.851ZM451.4 138.411L463.4 165.561H476.74L428.74 58.1807H416L367.83 165.561H380.83L392.83 138.411H451.4ZM446.19 126.601H398L422 72.1407L446.24 126.601H446.19ZM526.11 128.741L566.91 58.1807H554.35L519.99 114.181L485.17 58.1807H472.44L514.01 129.181V165.541H526.13V128.741H526.11Z\" fill=\"var(--jp-ui-font-color0)\"/>\n",
       "        <path d=\"M82.35 104.44C84.0187 97.8827 87.8248 92.0678 93.1671 87.9146C98.5094 83.7614 105.083 81.5067 111.85 81.5067C118.617 81.5067 125.191 83.7614 130.533 87.9146C135.875 92.0678 139.681 97.8827 141.35 104.44H163.75C164.476 101.562 165.622 98.8057 167.15 96.2605L127.45 56.5605C121.071 60.3522 113.526 61.6823 106.235 60.3005C98.9443 58.9187 92.4094 54.9203 87.8602 49.0574C83.3109 43.1946 81.0609 35.8714 81.5332 28.4656C82.0056 21.0599 85.1679 14.0819 90.4252 8.8446C95.6824 3.60726 102.672 0.471508 110.08 0.0272655C117.487 -0.416977 124.802 1.86091 130.647 6.4324C136.493 11.0039 140.467 17.5539 141.821 24.8501C143.175 32.1463 141.816 39.6859 138 46.0505L177.69 85.7505C182.31 82.9877 187.58 81.4995 192.962 81.4375C198.345 81.3755 203.648 82.742 208.33 85.3976C213.012 88.0532 216.907 91.9029 219.616 96.5544C222.326 101.206 223.753 106.492 223.753 111.875C223.753 117.258 222.326 122.545 219.616 127.197C216.907 131.848 213.012 135.698 208.33 138.353C203.648 141.009 198.345 142.375 192.962 142.313C187.58 142.251 182.31 140.763 177.69 138L138 177.7C141.808 184.071 143.155 191.614 141.79 198.91C140.424 206.205 136.44 212.75 130.585 217.313C124.731 221.875 117.412 224.141 110.004 223.683C102.596 223.226 95.6103 220.077 90.3621 214.828C85.1139 209.58 81.9647 202.595 81.5072 195.187C81.0497 187.779 83.3154 180.459 87.878 174.605C92.4405 168.751 98.9853 164.766 106.281 163.401C113.576 162.035 121.119 163.383 127.49 167.19L167.19 127.49C165.664 124.941 164.518 122.182 163.79 119.3H141.39C139.721 125.858 135.915 131.673 130.573 135.826C125.231 139.98 118.657 142.234 111.89 142.234C105.123 142.234 98.5494 139.98 93.2071 135.826C87.8648 131.673 84.0587 125.858 82.39 119.3H60C58.1878 126.495 53.8086 132.78 47.6863 136.971C41.5641 141.163 34.1211 142.972 26.7579 142.059C19.3947 141.146 12.6191 137.574 7.70605 132.014C2.79302 126.454 0.0813599 119.29 0.0813599 111.87C0.0813599 104.451 2.79302 97.2871 7.70605 91.7272C12.6191 86.1673 19.3947 82.5947 26.7579 81.6817C34.1211 80.7686 41.5641 82.5781 47.6863 86.7696C53.8086 90.9611 58.1878 97.2456 60 104.44H82.35ZM100.86 204.32C103.407 206.868 106.759 208.453 110.345 208.806C113.93 209.159 117.527 208.258 120.522 206.256C123.517 204.254 125.725 201.276 126.771 197.828C127.816 194.38 127.633 190.677 126.253 187.349C124.874 184.021 122.383 181.274 119.205 179.577C116.027 177.88 112.359 177.337 108.826 178.042C105.293 178.746 102.113 180.654 99.8291 183.44C97.5451 186.226 96.2979 189.718 96.3 193.32C96.2985 195.364 96.7006 197.388 97.4831 199.275C98.2656 201.163 99.4132 202.877 100.86 204.32ZM204.32 122.88C206.868 120.333 208.453 116.981 208.806 113.396C209.159 109.811 208.258 106.214 206.256 103.219C204.254 100.223 201.275 98.0151 197.827 96.97C194.38 95.9249 190.676 96.1077 187.348 97.4873C184.02 98.8669 181.274 101.358 179.577 104.536C177.879 107.714 177.337 111.382 178.041 114.915C178.746 118.448 180.653 121.627 183.439 123.911C186.226 126.195 189.717 127.443 193.32 127.44C195.364 127.443 197.388 127.042 199.275 126.259C201.163 125.476 202.878 124.328 204.32 122.88ZM122.88 19.4205C120.333 16.8729 116.981 15.2876 113.395 14.9347C109.81 14.5817 106.213 15.483 103.218 17.4849C100.223 19.4868 98.0146 22.4654 96.9696 25.9131C95.9245 29.3608 96.1073 33.0642 97.4869 36.3922C98.8665 39.7202 101.358 42.4668 104.535 44.1639C107.713 45.861 111.381 46.4036 114.914 45.6992C118.447 44.9949 121.627 43.0871 123.911 40.301C126.195 37.515 127.442 34.0231 127.44 30.4205C127.44 28.3772 127.038 26.3539 126.255 24.4664C125.473 22.5788 124.326 20.8642 122.88 19.4205ZM19.42 100.86C16.8725 103.408 15.2872 106.76 14.9342 110.345C14.5813 113.93 15.4826 117.527 17.4844 120.522C19.4863 123.518 22.4649 125.726 25.9127 126.771C29.3604 127.816 33.0638 127.633 36.3918 126.254C39.7198 124.874 42.4664 122.383 44.1635 119.205C45.8606 116.027 46.4032 112.359 45.6988 108.826C44.9944 105.293 43.0866 102.114 40.3006 99.8296C37.5145 97.5455 34.0227 96.2983 30.42 96.3005C26.2938 96.3018 22.337 97.9421 19.42 100.86ZM100.86 100.86C98.3125 103.408 96.7272 106.76 96.3742 110.345C96.0213 113.93 96.9226 117.527 98.9244 120.522C100.926 123.518 103.905 125.726 107.353 126.771C110.8 127.816 114.504 127.633 117.832 126.254C121.16 124.874 123.906 122.383 125.604 119.205C127.301 116.027 127.843 112.359 127.139 108.826C126.434 105.293 124.527 102.114 121.741 99.8296C118.955 97.5455 115.463 96.2983 111.86 96.3005C109.817 96.299 107.793 96.701 105.905 97.4835C104.018 98.2661 102.303 99.4136 100.86 100.86Z\" fill=\"#00AEEF\"/>\n",
       "    </g>\n",
       "    <defs>\n",
       "        <clipPath id=\"clip0_4338_178347\">\n",
       "            <rect width=\"566.93\" height=\"223.75\" fill=\"white\"/>\n",
       "        </clipPath>\n",
       "    </defs>\n",
       "  </svg>\n",
       "</div>\n",
       "\n",
       "        <table class=\"jp-RenderedHTMLCommon\" style=\"border-collapse: collapse;color: var(--jp-ui-font-color1);font-size: var(--jp-ui-font-size1);\">\n",
       "    <tr>\n",
       "        <td style=\"text-align: left\"><b>Python version:</b></td>\n",
       "        <td style=\"text-align: left\"><b>3.11.6</b></td>\n",
       "    </tr>\n",
       "    <tr>\n",
       "        <td style=\"text-align: left\"><b>Ray version:</b></td>\n",
       "        <td style=\"text-align: left\"><b>2.43.0</b></td>\n",
       "    </tr>\n",
       "    <tr>\n",
       "    <td style=\"text-align: left\"><b>Dashboard:</b></td>\n",
       "    <td style=\"text-align: left\"><b><a href=\"http://127.0.0.1:8266\" target=\"_blank\">http://127.0.0.1:8266</a></b></td>\n",
       "</tr>\n",
       "\n",
       "</table>\n",
       "\n",
       "    </div>\n",
       "</div>\n"
      ],
      "text/plain": [
       "RayContext(dashboard_url='127.0.0.1:8266', python_version='3.11.6', ray_version='2.43.0', ray_commit='ecdcdc6a6e63dc4bcd6ea16aae256ce4d32a7e2c')"
      ]
     },
     "execution_count": 5,
     "metadata": {},
     "output_type": "execute_result"
    },
    {
     "name": "stdout",
     "output_type": "stream",
     "text": [
      "\u001b[36m(<lambda> pid=26144)\u001b[0m 2061858284512\n",
      "\u001b[36m(<lambda> pid=42588)\u001b[0m 2875524555744\n",
      "\u001b[36m(<lambda> pid=26144)\u001b[0m 2061858284512\n",
      "\u001b[36m(<lambda> pid=42588)\u001b[0m 2875524555744\n",
      "\u001b[36m(<lambda> pid=23860)\u001b[0m 2143827895264\n",
      "\u001b[36m(<lambda> pid=27616)\u001b[0m 2079607792608\n",
      "\u001b[36m(<lambda> pid=39140)\u001b[0m 2070655706080\n",
      "\u001b[36m(<lambda> pid=184)\u001b[0m 2063738250208\n",
      "\u001b[36m(<lambda> pid=26836)\u001b[0m 2338110940128\n",
      "\u001b[36m(<lambda> pid=41928)\u001b[0m 2484224500704\n",
      "\u001b[36m(<lambda> pid=33896)\u001b[0m 3010551063520\n",
      "\u001b[36m(<lambda> pid=24712)\u001b[0m 2863580292064\n"
     ]
    }
   ],
   "source": [
    "import ray\n",
    "\n",
    "ray.init()"
   ]
  },
  {
   "cell_type": "code",
   "execution_count": 6,
   "id": "222da6ab-cd22-4aee-8cf0-ac81dcf3f501",
   "metadata": {},
   "outputs": [],
   "source": [
    "renv = RunEnv({\n",
    "    'a': 3,\n",
    "    'df': pd.DataFrame([[4]])\n",
    "})\n",
    "\n",
    "renv.save(\n",
    "    './ex/'\n",
    ")\n",
    "# display(renv._env)\n",
    "renv2 = load_runenv('./ex/')"
   ]
  },
  {
   "cell_type": "code",
   "execution_count": 7,
   "id": "e46f0603-57bc-414b-b53c-a2ef945a5586",
   "metadata": {},
   "outputs": [
    {
     "name": "stdout",
     "output_type": "stream",
     "text": [
      "1515248655776\n"
     ]
    },
    {
     "data": {
      "text/plain": [
       "{'a': 3,\n",
       " 'e': 'f_n',\n",
       " 'lst': [],\n",
       " 'np': <module 'numpy' from 'C:\\\\Users\\\\Nagato\\\\AppData\\\\Local\\\\Programs\\\\Python\\\\Python311\\\\Lib\\\\site-packages\\\\numpy\\\\__init__.py'>,\n",
       " 'pd': <module 'pandas' from 'C:\\\\Users\\\\Nagato\\\\AppData\\\\Local\\\\Programs\\\\Python\\\\Python311\\\\Lib\\\\site-packages\\\\pandas\\\\__init__.py'>,\n",
       " '__preamble__': {'__steps__': [{'step': Function(arg_cat='', tags={'import_lib', 'function'}),\n",
       "    'kwargs': {}},\n",
       "   {'step': Function(arg_cat='s', tags={'function'}), 'kwargs': {}},\n",
       "   {'step': Function(arg_cat='f', tags={'function'}),\n",
       "    'kwargs': {'s': 'f_d', 'e': 'f_n', 'h': 3}},\n",
       "   {'step': Function(arg_cat='', tags={'function'}), 'kwargs': {}}]},\n",
       " '_': 3,\n",
       " 'b': 10,\n",
       " 'c': 'f_d',\n",
       " 'f': 8,\n",
       " 'h': 3,\n",
       " 'r': 0.18563471004316667}"
      ]
     },
     "execution_count": 7,
     "metadata": {},
     "output_type": "execute_result"
    }
   ],
   "source": [
    "import numpy as np\n",
    "import time\n",
    "\n",
    "def dummy():\n",
    "    print(id(time))\n",
    "    time.sleep(1)\n",
    "    return np.random.rand()\n",
    "    \n",
    "def dummy2(env, kw):\n",
    "    env['myid'] = id(env)\n",
    "    env['lst'].append(id(env))\n",
    "\n",
    "pipe = Pipeline([\n",
    "    Function(lambda : 3, arg_cat='s')\n",
    "]).add_step(\n",
    "    step=Function(\n",
    "        fun=lambda x, s, e, f, h: (x**2+1, s, e, f, h),\n",
    "        args=Var('a'),\n",
    "        kw={'e': Var('a'), 'f': 8, 'h': 5},\n",
    "        out_var=('b', 'c', 'e', 'f', 'h'),\n",
    "        arg_cat='f',\n",
    "    )\n",
    ").add_import_lib(\n",
    "    {'numpy': 'np', 'pandas': 'pd'},\n",
    "    index=0\n",
    ").add_step(Function(dummy, out_var='r'))\n",
    "pipe\n",
    "env = pipe.run(RunEnv({'a': 3, 'e': 'k', 'lst': []}), {'f_s': 'f_d', 'f_e': 'f_n', 'f_h': 3})\n",
    "env._env"
   ]
  },
  {
   "cell_type": "code",
   "execution_count": 8,
   "id": "8b122b00-b895-4953-b2f1-1354ad9ff1e9",
   "metadata": {},
   "outputs": [
    {
     "name": "stdout",
     "output_type": "stream",
     "text": [
      "1515248655776\n"
     ]
    },
    {
     "data": {
      "text/plain": [
       "{'a': 3, 'e': 'f_n', 'lst': [], 'np': <module 'numpy' from 'C:\\\\Users\\\\Nagato\\\\AppData\\\\Local\\\\Programs\\\\Python\\\\Python311\\\\Lib\\\\site-packages\\\\numpy\\\\__init__.py'>, 'pd': <module 'pandas' from 'C:\\\\Users\\\\Nagato\\\\AppData\\\\Local\\\\Programs\\\\Python\\\\Python311\\\\Lib\\\\site-packages\\\\pandas\\\\__init__.py'>, '__preamble__': {'__steps__': [{'step': Function(arg_cat='', tags={'import_lib', 'function'}), 'kwargs': {}}, {'step': Function(arg_cat='s', tags={'function'}), 'kwargs': {}}, {'step': Function(arg_cat='f', tags={'function'}), 'kwargs': {'s': 'f_d', 'e': 'f_n', 'h': 3}}, {'step': Function(arg_cat='', tags={'function'}), 'kwargs': {}}]}, '_': 3, 'b': 10, 'c': 'f_d', 'f': 8, 'h': 3, 'r': 0.8691561070952463}"
      ]
     },
     "execution_count": 8,
     "metadata": {},
     "output_type": "execute_result"
    }
   ],
   "source": [
    "pipe.run(RunEnv({'a': 3, 'e': 'k', 'lst': []}), {'f_s': 'f_d', 'f_e': 'f_n', 'f_h': 3})"
   ]
  },
  {
   "cell_type": "code",
   "execution_count": 9,
   "id": "edb72186-4ca7-466a-94fc-89586285c8da",
   "metadata": {},
   "outputs": [],
   "source": [
    "from streamline.pipeline import run_parallel\n",
    "\n",
    "res_par = run_parallel([\n",
    "    (pipe, {'a': 3, 'e': 'k', 'lst': []}, {'f_s': 'f_d', 'f_e': 'f_n', 'f_h': 3}),\n",
    "    (pipe, {'a': 3, 'e': 'k', 'lst': []}, {'f_s': 'f_d', 'f_e': 'f_n', 'f_h': 3}),\n",
    "])"
   ]
  },
  {
   "cell_type": "code",
   "execution_count": 10,
   "id": "c350944e-14e0-46ce-bbaa-fa8215f02ced",
   "metadata": {},
   "outputs": [
    {
     "data": {
      "text/plain": [
       "{'a': 3, 'e': 'f_n', 'lst': [], 'np': <module 'numpy' from 'C:\\\\Users\\\\Nagato\\\\AppData\\\\Local\\\\Programs\\\\Python\\\\Python311\\\\Lib\\\\site-packages\\\\numpy\\\\__init__.py'>, 'pd': <module 'pandas' from 'C:\\\\Users\\\\Nagato\\\\AppData\\\\Local\\\\Programs\\\\Python\\\\Python311\\\\Lib\\\\site-packages\\\\pandas\\\\__init__.py'>, '__preamble__': {'__steps__': [{'step': Function(arg_cat='', tags={'import_lib', 'function'}), 'kwargs': {}}, {'step': Function(arg_cat='s', tags={'function'}), 'kwargs': {}}, {'step': Function(arg_cat='f', tags={'function'}), 'kwargs': {'s': 'f_d', 'e': 'f_n', 'h': 3}}, {'step': Function(arg_cat='', tags={'function'}), 'kwargs': {}}]}, '_': 3, 'b': 10, 'c': 'f_d', 'f': 8, 'h': 3, 'r': 0.5312587045812112}"
      ]
     },
     "execution_count": 10,
     "metadata": {},
     "output_type": "execute_result"
    }
   ],
   "source": [
    "res_par[1]"
   ]
  },
  {
   "cell_type": "code",
   "execution_count": 11,
   "id": "158bcbf8-800d-4ac3-9031-0484e0269a11",
   "metadata": {},
   "outputs": [
    {
     "data": {
      "text/plain": [
       "'s'"
      ]
     },
     "execution_count": 11,
     "metadata": {},
     "output_type": "execute_result"
    }
   ],
   "source": [
    "from streamline import eval_delay, step\n",
    "\n",
    "eval_delay(step.arg_cat, {'step': Function(lambda x: x, arg_cat='s')})"
   ]
  },
  {
   "cell_type": "code",
   "execution_count": 12,
   "id": "6b45a88e-b4d3-438a-9a2e-c4320eb4f777",
   "metadata": {},
   "outputs": [
    {
     "data": {
      "text/plain": [
       "[[{'a': 3, 'e': 'f_n', 'lst': [], 'np': <module 'numpy' from 'C:\\\\Users\\\\Nagato\\\\AppData\\\\Local\\\\Programs\\\\Python\\\\Python311\\\\Lib\\\\site-packages\\\\numpy\\\\__init__.py'>, 'pd': <module 'pandas' from 'C:\\\\Users\\\\Nagato\\\\AppData\\\\Local\\\\Programs\\\\Python\\\\Python311\\\\Lib\\\\site-packages\\\\pandas\\\\__init__.py'>, '__preamble__': {'__steps__': [{'step': Function(arg_cat='', tags={'import_lib', 'function'}), 'kwargs': {}}, {'step': Function(arg_cat='s', tags={'function'}), 'kwargs': {}}, {'step': Function(arg_cat='f', tags={'function'}), 'kwargs': {'s': 'f_d', 'e': 'f_n', 'h': 3}}, {'step': Function(arg_cat='', tags={'function'}), 'kwargs': {}}]}, '_': 3, 'b': 10, 'c': 'f_d', 'f': 8, 'h': 3, 'r': 0.132491865984531},\n",
       "  {'a': 3, 'e': 'f_n', 'lst': [], 'np': <module 'numpy' from 'C:\\\\Users\\\\Nagato\\\\AppData\\\\Local\\\\Programs\\\\Python\\\\Python311\\\\Lib\\\\site-packages\\\\numpy\\\\__init__.py'>, 'pd': <module 'pandas' from 'C:\\\\Users\\\\Nagato\\\\AppData\\\\Local\\\\Programs\\\\Python\\\\Python311\\\\Lib\\\\site-packages\\\\pandas\\\\__init__.py'>, '__preamble__': {'__steps__': [{'step': Function(arg_cat='', tags={'import_lib', 'function'}), 'kwargs': {}}, {'step': Function(arg_cat='s', tags={'function'}), 'kwargs': {}}, {'step': Function(arg_cat='f', tags={'function'}), 'kwargs': {'s': 'f_d', 'e': 'f_n', 'h': 3}}, {'step': Function(arg_cat='', tags={'function'}), 'kwargs': {}}]}, '_': 3, 'b': 10, 'c': 'f_d', 'f': 8, 'h': 3, 'r': 0.09261686303772687},\n",
       "  {'a': 3, 'e': 'f_n', 'lst': [], 'np': <module 'numpy' from 'C:\\\\Users\\\\Nagato\\\\AppData\\\\Local\\\\Programs\\\\Python\\\\Python311\\\\Lib\\\\site-packages\\\\numpy\\\\__init__.py'>, 'pd': <module 'pandas' from 'C:\\\\Users\\\\Nagato\\\\AppData\\\\Local\\\\Programs\\\\Python\\\\Python311\\\\Lib\\\\site-packages\\\\pandas\\\\__init__.py'>, '__preamble__': {'__steps__': [{'step': Function(arg_cat='', tags={'import_lib', 'function'}), 'kwargs': {}}, {'step': Function(arg_cat='s', tags={'function'}), 'kwargs': {}}, {'step': Function(arg_cat='f', tags={'function'}), 'kwargs': {'s': 'f_d', 'e': 'f_n', 'h': 3}}, {'step': Function(arg_cat='', tags={'function'}), 'kwargs': {}}]}, '_': 3, 'b': 10, 'c': 'f_d', 'f': 8, 'h': 3, 'r': 0.6621694996229635},\n",
       "  {'a': 3, 'e': 'f_n', 'lst': [], 'np': <module 'numpy' from 'C:\\\\Users\\\\Nagato\\\\AppData\\\\Local\\\\Programs\\\\Python\\\\Python311\\\\Lib\\\\site-packages\\\\numpy\\\\__init__.py'>, 'pd': <module 'pandas' from 'C:\\\\Users\\\\Nagato\\\\AppData\\\\Local\\\\Programs\\\\Python\\\\Python311\\\\Lib\\\\site-packages\\\\pandas\\\\__init__.py'>, '__preamble__': {'__steps__': [{'step': Function(arg_cat='', tags={'import_lib', 'function'}), 'kwargs': {}}, {'step': Function(arg_cat='s', tags={'function'}), 'kwargs': {}}, {'step': Function(arg_cat='f', tags={'function'}), 'kwargs': {'s': 'f_d', 'e': 'f_n', 'h': 3}}, {'step': Function(arg_cat='', tags={'function'}), 'kwargs': {}}]}, '_': 3, 'b': 10, 'c': 'f_d', 'f': 8, 'h': 3, 'r': 0.47852427641078277},\n",
       "  {'a': 3, 'e': 'f_n', 'lst': [], 'np': <module 'numpy' from 'C:\\\\Users\\\\Nagato\\\\AppData\\\\Local\\\\Programs\\\\Python\\\\Python311\\\\Lib\\\\site-packages\\\\numpy\\\\__init__.py'>, 'pd': <module 'pandas' from 'C:\\\\Users\\\\Nagato\\\\AppData\\\\Local\\\\Programs\\\\Python\\\\Python311\\\\Lib\\\\site-packages\\\\pandas\\\\__init__.py'>, '__preamble__': {'__steps__': [{'step': Function(arg_cat='', tags={'import_lib', 'function'}), 'kwargs': {}}, {'step': Function(arg_cat='s', tags={'function'}), 'kwargs': {}}, {'step': Function(arg_cat='f', tags={'function'}), 'kwargs': {'s': 'f_d', 'e': 'f_n', 'h': 3}}, {'step': Function(arg_cat='', tags={'function'}), 'kwargs': {}}]}, '_': 3, 'b': 10, 'c': 'f_d', 'f': 8, 'h': 3, 'r': 0.3179137265250831},\n",
       "  {'a': 3, 'e': 'f_n', 'lst': [], 'np': <module 'numpy' from 'C:\\\\Users\\\\Nagato\\\\AppData\\\\Local\\\\Programs\\\\Python\\\\Python311\\\\Lib\\\\site-packages\\\\numpy\\\\__init__.py'>, 'pd': <module 'pandas' from 'C:\\\\Users\\\\Nagato\\\\AppData\\\\Local\\\\Programs\\\\Python\\\\Python311\\\\Lib\\\\site-packages\\\\pandas\\\\__init__.py'>, '__preamble__': {'__steps__': [{'step': Function(arg_cat='', tags={'import_lib', 'function'}), 'kwargs': {}}, {'step': Function(arg_cat='s', tags={'function'}), 'kwargs': {}}, {'step': Function(arg_cat='f', tags={'function'}), 'kwargs': {'s': 'f_d', 'e': 'f_n', 'h': 3}}, {'step': Function(arg_cat='', tags={'function'}), 'kwargs': {}}]}, '_': 3, 'b': 10, 'c': 'f_d', 'f': 8, 'h': 3, 'r': 0.24410496827001604},\n",
       "  {'a': 3, 'e': 'f_n', 'lst': [], 'np': <module 'numpy' from 'C:\\\\Users\\\\Nagato\\\\AppData\\\\Local\\\\Programs\\\\Python\\\\Python311\\\\Lib\\\\site-packages\\\\numpy\\\\__init__.py'>, 'pd': <module 'pandas' from 'C:\\\\Users\\\\Nagato\\\\AppData\\\\Local\\\\Programs\\\\Python\\\\Python311\\\\Lib\\\\site-packages\\\\pandas\\\\__init__.py'>, '__preamble__': {'__steps__': [{'step': Function(arg_cat='', tags={'import_lib', 'function'}), 'kwargs': {}}, {'step': Function(arg_cat='s', tags={'function'}), 'kwargs': {}}, {'step': Function(arg_cat='f', tags={'function'}), 'kwargs': {'s': 'f_d', 'e': 'f_n', 'h': 3}}, {'step': Function(arg_cat='', tags={'function'}), 'kwargs': {}}]}, '_': 3, 'b': 10, 'c': 'f_d', 'f': 8, 'h': 3, 'r': 0.9251636404090767},\n",
       "  {'a': 3, 'e': 'f_n', 'lst': [], 'np': <module 'numpy' from 'C:\\\\Users\\\\Nagato\\\\AppData\\\\Local\\\\Programs\\\\Python\\\\Python311\\\\Lib\\\\site-packages\\\\numpy\\\\__init__.py'>, 'pd': <module 'pandas' from 'C:\\\\Users\\\\Nagato\\\\AppData\\\\Local\\\\Programs\\\\Python\\\\Python311\\\\Lib\\\\site-packages\\\\pandas\\\\__init__.py'>, '__preamble__': {'__steps__': [{'step': Function(arg_cat='', tags={'import_lib', 'function'}), 'kwargs': {}}, {'step': Function(arg_cat='s', tags={'function'}), 'kwargs': {}}, {'step': Function(arg_cat='f', tags={'function'}), 'kwargs': {'s': 'f_d', 'e': 'f_n', 'h': 3}}, {'step': Function(arg_cat='', tags={'function'}), 'kwargs': {}}]}, '_': 3, 'b': 10, 'c': 'f_d', 'f': 8, 'h': 3, 'r': 0.04017020187486986},\n",
       "  {'a': 3, 'e': 'f_n', 'lst': [], 'np': <module 'numpy' from 'C:\\\\Users\\\\Nagato\\\\AppData\\\\Local\\\\Programs\\\\Python\\\\Python311\\\\Lib\\\\site-packages\\\\numpy\\\\__init__.py'>, 'pd': <module 'pandas' from 'C:\\\\Users\\\\Nagato\\\\AppData\\\\Local\\\\Programs\\\\Python\\\\Python311\\\\Lib\\\\site-packages\\\\pandas\\\\__init__.py'>, '__preamble__': {'__steps__': [{'step': Function(arg_cat='', tags={'import_lib', 'function'}), 'kwargs': {}}, {'step': Function(arg_cat='s', tags={'function'}), 'kwargs': {}}, {'step': Function(arg_cat='f', tags={'function'}), 'kwargs': {'s': 'f_d', 'e': 'f_n', 'h': 3}}, {'step': Function(arg_cat='', tags={'function'}), 'kwargs': {}}]}, '_': 3, 'b': 10, 'c': 'f_d', 'f': 8, 'h': 3, 'r': 0.4795252298964098},\n",
       "  {'a': 3, 'e': 'f_n', 'lst': [], 'np': <module 'numpy' from 'C:\\\\Users\\\\Nagato\\\\AppData\\\\Local\\\\Programs\\\\Python\\\\Python311\\\\Lib\\\\site-packages\\\\numpy\\\\__init__.py'>, 'pd': <module 'pandas' from 'C:\\\\Users\\\\Nagato\\\\AppData\\\\Local\\\\Programs\\\\Python\\\\Python311\\\\Lib\\\\site-packages\\\\pandas\\\\__init__.py'>, '__preamble__': {'__steps__': [{'step': Function(arg_cat='', tags={'import_lib', 'function'}), 'kwargs': {}}, {'step': Function(arg_cat='s', tags={'function'}), 'kwargs': {}}, {'step': Function(arg_cat='f', tags={'function'}), 'kwargs': {'s': 'f_d', 'e': 'f_n', 'h': 3}}, {'step': Function(arg_cat='', tags={'function'}), 'kwargs': {}}]}, '_': 3, 'b': 10, 'c': 'f_d', 'f': 8, 'h': 3, 'r': 0.5515478880492086}]]"
      ]
     },
     "execution_count": 12,
     "metadata": {},
     "output_type": "execute_result"
    }
   ],
   "source": [
    "base_env = RunEnv({'a': 3, 'e': 'k', 'lst': []})\n",
    "env_l = pipe.run_parallel([base_env], [{'f_s': 'f_d', 'f_e': 'f_n', 'f_h': 3} for i in range(10)])\n",
    "env_l"
   ]
  },
  {
   "cell_type": "code",
   "execution_count": 13,
   "id": "14bee71f-b59b-4964-90c9-878b5964ba5d",
   "metadata": {},
   "outputs": [
    {
     "data": {
      "text/plain": [
       "[]"
      ]
     },
     "execution_count": 13,
     "metadata": {},
     "output_type": "execute_result"
    }
   ],
   "source": [
    "base_env['lst']"
   ]
  },
  {
   "cell_type": "code",
   "execution_count": 14,
   "id": "ba22ffed-216f-4020-a636-1e64a0264f7e",
   "metadata": {},
   "outputs": [
    {
     "data": {
      "text/plain": [
       "[[], [], [], [], [], [], [], [], [], []]"
      ]
     },
     "execution_count": 14,
     "metadata": {},
     "output_type": "execute_result"
    }
   ],
   "source": [
    "[c['lst'] for c in env_l[0]]"
   ]
  },
  {
   "cell_type": "code",
   "execution_count": 15,
   "id": "4a90ab1b-2818-46f6-8171-71c8435718cb",
   "metadata": {},
   "outputs": [
    {
     "data": {
      "text/plain": [
       "[[0, 1, 2, 3, 4], [5, 6, 7, 8, 9]]"
      ]
     },
     "execution_count": 15,
     "metadata": {},
     "output_type": "execute_result"
    }
   ],
   "source": [
    "s = list(range(10))\n",
    "s = [s[i:i+5] for i in range(0, 10, 5)]\n",
    "s"
   ]
  },
  {
   "cell_type": "code",
   "execution_count": 16,
   "id": "73510715-2ed3-4fae-b721-ff9b8d033bb4",
   "metadata": {},
   "outputs": [
    {
     "data": {
      "text/plain": [
       "Pipeline(steps=[\n",
       "  Function(arg_cat='', tags={'import_lib', 'function'}), \n",
       "  Function(arg_cat='s', tags={'function'}), \n",
       "  Function(arg_cat='f', tags={'function'}), \n",
       "  Function(arg_cat='', tags={'function'})\n",
       "], )"
      ]
     },
     "execution_count": 16,
     "metadata": {},
     "output_type": "execute_result"
    }
   ],
   "source": [
    "env.gen_pipeline()"
   ]
  },
  {
   "cell_type": "code",
   "execution_count": 17,
   "id": "2e311710-8987-45ad-a6ef-cf5d35d4f4de",
   "metadata": {},
   "outputs": [
    {
     "data": {
      "text/plain": [
       "Pipeline(steps=[\n",
       "  Function(arg_cat='', tags={'import_lib', 'function'}), \n",
       "  Function(arg_cat='s', tags={'function'}), \n",
       "  Function(arg_cat='f', tags={'function'}), \n",
       "  Function(arg_cat='', tags={'function'})\n",
       "], )"
      ]
     },
     "execution_count": 17,
     "metadata": {},
     "output_type": "execute_result"
    }
   ],
   "source": [
    "pipe"
   ]
  },
  {
   "cell_type": "code",
   "execution_count": 18,
   "id": "1cd7fbdb-0ac2-4b6e-886b-d90d0aaec34c",
   "metadata": {},
   "outputs": [
    {
     "data": {
      "text/plain": [
       "Pipeline(steps=[\n",
       "  Function(arg_cat='', tags={'import_lib', 'function'}), \n",
       "  Function(arg_cat='s', tags={'function'})\n",
       "], )"
      ]
     },
     "execution_count": 18,
     "metadata": {},
     "output_type": "execute_result"
    }
   ],
   "source": [
    "pipe.loc[[0, 1]]"
   ]
  },
  {
   "cell_type": "code",
   "execution_count": 19,
   "id": "5688baf3-0821-4e32-975d-030dc6d4d872",
   "metadata": {},
   "outputs": [],
   "source": [
    "pipe.loc[[0, 1]] = Function(arg_cat='d', fun=lambda x: x)"
   ]
  },
  {
   "cell_type": "code",
   "execution_count": 20,
   "id": "6de66f5c-59ee-47c1-a318-f42e2b6ca793",
   "metadata": {},
   "outputs": [
    {
     "data": {
      "text/plain": [
       "Pipeline(steps=[\n",
       "  Function(arg_cat='d', tags={'function'}), \n",
       "  Function(arg_cat='d', tags={'function'}), \n",
       "  Function(arg_cat='f', tags={'function'}), \n",
       "  Function(arg_cat='', tags={'function'})\n",
       "], )"
      ]
     },
     "execution_count": 20,
     "metadata": {},
     "output_type": "execute_result"
    }
   ],
   "source": [
    "pipe"
   ]
  },
  {
   "cell_type": "code",
   "execution_count": 21,
   "id": "a8f0a564-9f20-4f88-8330-50e1478fbec2",
   "metadata": {},
   "outputs": [
    {
     "data": {
      "text/plain": [
       "step.arg_cat.startswith(*('s',), **{})"
      ]
     },
     "execution_count": 21,
     "metadata": {},
     "output_type": "execute_result"
    }
   ],
   "source": [
    "step.arg_cat.startswith('s')"
   ]
  },
  {
   "cell_type": "code",
   "execution_count": 22,
   "id": "dfd8cbd6-c1d6-425e-bcd1-83b5a31d736d",
   "metadata": {},
   "outputs": [
    {
     "data": {
      "text/plain": [
       "Pipeline(steps=[\n",
       "  Function(arg_cat='d', tags={'function'}), \n",
       "  Function(arg_cat='d', tags={'function'})\n",
       "], )"
      ]
     },
     "execution_count": 22,
     "metadata": {},
     "output_type": "execute_result"
    }
   ],
   "source": [
    "pipe.loc[step.arg_cat.startswith('d')]"
   ]
  },
  {
   "cell_type": "code",
   "execution_count": 23,
   "id": "f9401090-d5bb-4601-92ea-61c4b51743fe",
   "metadata": {},
   "outputs": [
    {
     "data": {
      "text/plain": [
       "Pipeline(steps=[\n",
       "], )"
      ]
     },
     "execution_count": 23,
     "metadata": {},
     "output_type": "execute_result"
    }
   ],
   "source": [
    "pipe.loc[pipe.apply(lambda x: x.tags is None)]"
   ]
  },
  {
   "cell_type": "code",
   "execution_count": 24,
   "id": "86b81b14-1635-421b-869c-bdd1d948dc4e",
   "metadata": {},
   "outputs": [
    {
     "data": {
      "text/plain": [
       "[Function(arg_cat='d', tags={'function'}),\n",
       " Function(arg_cat='d', tags={'function'}),\n",
       " Function(arg_cat='f', tags={'function'}),\n",
       " Function(arg_cat='', tags={'function'})]"
      ]
     },
     "execution_count": 24,
     "metadata": {},
     "output_type": "execute_result"
    }
   ],
   "source": [
    "pipe.to_list()"
   ]
  },
  {
   "cell_type": "code",
   "execution_count": 25,
   "id": "cb60fbad-b6b6-4a59-bf50-1a9271235faf",
   "metadata": {},
   "outputs": [
    {
     "data": {
      "text/plain": [
       "(3 in step.tags)"
      ]
     },
     "execution_count": 25,
     "metadata": {},
     "output_type": "execute_result"
    }
   ],
   "source": [
    "step.tags.contains(3)"
   ]
  },
  {
   "cell_type": "code",
   "execution_count": 26,
   "id": "5bda9c32-7026-449f-a08c-43270a7bf55d",
   "metadata": {},
   "outputs": [
    {
     "name": "stdout",
     "output_type": "stream",
     "text": [
      "(type(*(((3 in step.tags) & (1 in step.tags)),), **{}).__name__ in ['bool'])\n"
     ]
    },
    {
     "data": {
      "text/plain": [
       "True"
      ]
     },
     "execution_count": 26,
     "metadata": {},
     "output_type": "execute_result"
    }
   ],
   "source": [
    "step = Delayed(prefix='step')\n",
    "d = delay_lib.type((step.tags.contains(3)) & (step.tags.contains(1))).__name__.isin(['bool'])\n",
    "print(d)\n",
    "eval_delay(d, env={'step': Function(arg_cat='s', fun=lambda x: x, tags={1, 2})})"
   ]
  },
  {
   "cell_type": "code",
   "execution_count": 27,
   "id": "129ecd43-a2f4-4898-95fb-8e97ea4f4f07",
   "metadata": {},
   "outputs": [
    {
     "data": {
      "text/plain": [
       "False"
      ]
     },
     "execution_count": 27,
     "metadata": {},
     "output_type": "execute_result"
    }
   ],
   "source": [
    "eval_delay(step.tags.contains(3), env={'step': Function(arg_cat='s', fun=lambda x: x, tags={1, 2})})"
   ]
  },
  {
   "cell_type": "code",
   "execution_count": 28,
   "id": "bc38c226-e597-41c6-a206-41e9667aa99b",
   "metadata": {},
   "outputs": [
    {
     "data": {
      "text/plain": [
       "{'dict', 'sl', 'type'}"
      ]
     },
     "execution_count": 28,
     "metadata": {},
     "output_type": "execute_result"
    }
   ],
   "source": [
    "import dis\n",
    "\n",
    "a = 3\n",
    "def s():\n",
    "    return a\n",
    "\n",
    "def get_global_dependencies(func):\n",
    "    \"\"\"\n",
    "    Returns a set of global variable names accessed by the function.\n",
    "    \"\"\"\n",
    "    dependencies = set()\n",
    "    for instr in dis.get_instructions(func):\n",
    "        if instr.opname == 'LOAD_GLOBAL':\n",
    "            dependencies.add(instr.argval)\n",
    "    return dependencies\n",
    "\n",
    "get_global_dependencies(Pipeline.run)"
   ]
  },
  {
   "cell_type": "code",
   "execution_count": null,
   "id": "bb0e0f0c-a172-42d6-bd24-bd815287bf54",
   "metadata": {},
   "outputs": [],
   "source": []
  }
 ],
 "metadata": {
  "kernelspec": {
   "display_name": "Python 3 (ipykernel)",
   "language": "python",
   "name": "python3"
  },
  "language_info": {
   "codemirror_mode": {
    "name": "ipython",
    "version": 3
   },
   "file_extension": ".py",
   "mimetype": "text/x-python",
   "name": "python",
   "nbconvert_exporter": "python",
   "pygments_lexer": "ipython3",
   "version": "3.11.6"
  }
 },
 "nbformat": 4,
 "nbformat_minor": 5
}
