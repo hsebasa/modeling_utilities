{
 "cells": [
  {
   "cell_type": "code",
   "execution_count": 1,
   "id": "aa410720-5884-4287-814c-acce4aac677f",
   "metadata": {},
   "outputs": [
    {
     "data": {
      "text/plain": [
       "'module2'"
      ]
     },
     "execution_count": 1,
     "metadata": {},
     "output_type": "execute_result"
    }
   ],
   "source": [
    "from module2 import g\n",
    "\n",
    "g.__module__"
   ]
  },
  {
   "cell_type": "code",
   "execution_count": 3,
   "id": "a4de8f67-7241-4ac5-9b9d-bd2a5ed20142",
   "metadata": {},
   "outputs": [
    {
     "name": "stdout",
     "output_type": "stream",
     "text": [
      "Instruction(opname='RESUME', opcode=151, arg=0, argval=0, argrepr='', offset=0, starts_line=4, is_jump_target=False, positions=Positions(lineno=4, end_lineno=4, col_offset=0, end_col_offset=0))\n",
      "Instruction(opname='LOAD_GLOBAL', opcode=116, arg=1, argval='f', argrepr='NULL + f', offset=2, starts_line=5, is_jump_target=False, positions=Positions(lineno=5, end_lineno=5, col_offset=11, end_col_offset=12))\n",
      "Instruction(opname='LOAD_FAST', opcode=124, arg=0, argval='a', argrepr='a', offset=14, starts_line=None, is_jump_target=False, positions=Positions(lineno=5, end_lineno=5, col_offset=13, end_col_offset=14))\n",
      "Instruction(opname='PRECALL', opcode=166, arg=1, argval=1, argrepr='', offset=16, starts_line=None, is_jump_target=False, positions=Positions(lineno=5, end_lineno=5, col_offset=11, end_col_offset=15))\n",
      "Instruction(opname='CALL', opcode=171, arg=1, argval=1, argrepr='', offset=20, starts_line=None, is_jump_target=False, positions=Positions(lineno=5, end_lineno=5, col_offset=11, end_col_offset=15))\n",
      "Instruction(opname='RETURN_VALUE', opcode=83, arg=None, argval=None, argrepr='', offset=30, starts_line=None, is_jump_target=False, positions=Positions(lineno=5, end_lineno=5, col_offset=4, end_col_offset=15))\n"
     ]
    },
    {
     "data": {
      "text/plain": [
       "{'f'}"
      ]
     },
     "execution_count": 3,
     "metadata": {},
     "output_type": "execute_result"
    }
   ],
   "source": [
    "import dis\n",
    "\n",
    "def get_global_dependencies(func):\n",
    "    \"\"\"\n",
    "    Returns a set of global variable names accessed by the function.\n",
    "    \"\"\"\n",
    "    dependencies = set()\n",
    "    for instr in dis.get_instructions(func):\n",
    "        print(instr)\n",
    "        if instr.opname == 'LOAD_GLOBAL':\n",
    "            dependencies.add(instr.argval)\n",
    "    return dependencies\n",
    "\n",
    "get_global_dependencies(g)"
   ]
  },
  {
   "cell_type": "code",
   "execution_count": 10,
   "id": "2bb559f1-a2e9-48f6-ae6c-f4c904bcaf6e",
   "metadata": {},
   "outputs": [
    {
     "name": "stdout",
     "output_type": "stream",
     "text": [
      "def g(a):\n",
      "    return f(a)\n",
      "\n"
     ]
    },
    {
     "ename": "NameError",
     "evalue": "name 'f' is not defined",
     "output_type": "error",
     "traceback": [
      "\u001b[1;31m---------------------------------------------------------------------------\u001b[0m",
      "\u001b[1;31mNameError\u001b[0m                                 Traceback (most recent call last)",
      "Cell \u001b[1;32mIn[10], line 19\u001b[0m\n\u001b[0;32m     16\u001b[0m     \u001b[38;5;28;01mreturn\u001b[39;00m d\n\u001b[0;32m     18\u001b[0m s \u001b[38;5;241m=\u001b[39m mainify(g)\n\u001b[1;32m---> 19\u001b[0m \u001b[43ms\u001b[49m\u001b[43m[\u001b[49m\u001b[38;5;124;43m'\u001b[39;49m\u001b[38;5;124;43mg\u001b[39;49m\u001b[38;5;124;43m'\u001b[39;49m\u001b[43m]\u001b[49m\u001b[43m(\u001b[49m\u001b[38;5;241;43m4\u001b[39;49m\u001b[43m)\u001b[49m\n",
      "File \u001b[1;32m<string>:2\u001b[0m, in \u001b[0;36mg\u001b[1;34m(a)\u001b[0m\n",
      "\u001b[1;31mNameError\u001b[0m: name 'f' is not defined"
     ]
    }
   ],
   "source": [
    "import streamline as sl\n",
    "\n",
    "\n",
    "def mainify(obj):\n",
    "    import __main__\n",
    "    import inspect\n",
    "    import ast\n",
    "\n",
    "    s = inspect.getsource(obj)\n",
    "    print(s)\n",
    "    m = ast.parse(s)\n",
    "    co = compile(m, '<string>', 'exec')\n",
    "    # d = __main__.__dict__.copy()\n",
    "    d = dict()\n",
    "    exec(co, d)\n",
    "    return d\n",
    "    \n",
    "s = mainify(g)\n",
    "s['g'](4)"
   ]
  },
  {
   "cell_type": "code",
   "execution_count": 15,
   "id": "2e1035c6-dd7d-4a70-8cb1-c47bf5bf8907",
   "metadata": {},
   "outputs": [
    {
     "data": {
      "text/plain": [
       "'__main__'"
      ]
     },
     "execution_count": 15,
     "metadata": {},
     "output_type": "execute_result"
    }
   ],
   "source": [
    "mainify.__module__"
   ]
  },
  {
   "cell_type": "code",
   "execution_count": null,
   "id": "1459da31-7d93-46a8-99f3-ee6d2e93f7de",
   "metadata": {},
   "outputs": [],
   "source": []
  }
 ],
 "metadata": {
  "kernelspec": {
   "display_name": "Python 3 (ipykernel)",
   "language": "python",
   "name": "python3"
  },
  "language_info": {
   "codemirror_mode": {
    "name": "ipython",
    "version": 3
   },
   "file_extension": ".py",
   "mimetype": "text/x-python",
   "name": "python",
   "nbconvert_exporter": "python",
   "pygments_lexer": "ipython3",
   "version": "3.11.6"
  }
 },
 "nbformat": 4,
 "nbformat_minor": 5
}
