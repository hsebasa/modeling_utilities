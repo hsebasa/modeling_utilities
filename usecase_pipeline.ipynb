{
 "cells": [
  {
   "cell_type": "code",
   "execution_count": 1,
   "id": "fec00815-c989-4ce4-b5cc-1a2386aef01e",
   "metadata": {},
   "outputs": [],
   "source": [
    "# pip install frozendict \n",
    "# pip install pyarrow\n",
    "# pip install -e ./streamline_package\n",
    "# pip install ray[default]"
   ]
  },
  {
   "cell_type": "code",
   "execution_count": 2,
   "id": "23a8b865-ec38-44a7-b700-dc9e71463728",
   "metadata": {},
   "outputs": [],
   "source": [
    "%load_ext autoreload\n",
    "%autoreload 2"
   ]
  },
  {
   "cell_type": "code",
   "execution_count": 3,
   "id": "39997db8-0db2-420a-a73d-2afc2e64379f",
   "metadata": {},
   "outputs": [],
   "source": [
    "from streamline.delayed import delay_lib, step, Delayed, eval_delay\n",
    "from streamline import RunEnv, load_runenv, Pipeline, Function, Var, DebugPipeline\n",
    "from streamline.utilities import mainify"
   ]
  },
  {
   "cell_type": "code",
   "execution_count": 4,
   "id": "5079d91e-c2df-4d50-b941-99de18843469",
   "metadata": {},
   "outputs": [],
   "source": [
    "from typing import *\n",
    "import pandas as pd"
   ]
  },
  {
   "cell_type": "code",
   "execution_count": 5,
   "id": "deb70ea3-8b7e-435d-8562-8da58be6ca6c",
   "metadata": {},
   "outputs": [],
   "source": [
    "# import ray\n",
    "\n",
    "# ray.init()"
   ]
  },
  {
   "cell_type": "code",
   "execution_count": 6,
   "id": "bb0e0f0c-a172-42d6-bd24-bd815287bf54",
   "metadata": {},
   "outputs": [
    {
     "data": {
      "text/plain": [
       "{'s': 2, 't': 3, '_': (2, 3, 4), '__preamble__': {'__steps__': [{'step': Function(arg_cat='', tags={'function'}), 'kwargs': {}}, {'step': Delete(arg_cat='', tags={'delete'}), 'kwargs': {}}]}}"
      ]
     },
     "execution_count": 6,
     "metadata": {},
     "output_type": "execute_result"
    }
   ],
   "source": [
    "pipe2 = Pipeline([Function(lambda a, b, c: (a, b, c), args=[Var('s')], kw={'b': Var('t'), 'c': 4})]).add_delete([Var('m')])\n",
    "pipe2.run({'s': 2, 't': 3, 'm': 5})"
   ]
  },
  {
   "cell_type": "code",
   "execution_count": 7,
   "id": "50a11124-5a84-4af6-8ea0-2aa7714ca97e",
   "metadata": {},
   "outputs": [
    {
     "data": {
      "text/plain": [
       "{'n': 2, 'a': 3, '_': (2, 3, 4), '__preamble__': {'__steps__': [{'step': Function(arg_cat='', tags={'function'}), 'kwargs': {}}, {'step': Delete(arg_cat='', tags={'delete'}), 'kwargs': {}}]}}"
      ]
     },
     "execution_count": 7,
     "metadata": {},
     "output_type": "execute_result"
    }
   ],
   "source": [
    "pipe3 = pipe2.copy()\n",
    "pipe3.rename({'s': 'n', 't': 'a', 'm': 'd'})\n",
    "pipe3.run({'n': 2, 'a': 3, 'd': 4})"
   ]
  },
  {
   "cell_type": "code",
   "execution_count": 8,
   "id": "3162b077-111e-4f72-b604-2b73be110168",
   "metadata": {},
   "outputs": [
    {
     "data": {
      "text/plain": [
       "True"
      ]
     },
     "execution_count": 8,
     "metadata": {},
     "output_type": "execute_result"
    }
   ],
   "source": [
    "isinstance(OrderedDict(), dict)"
   ]
  },
  {
   "cell_type": "code",
   "execution_count": 9,
   "id": "222da6ab-cd22-4aee-8cf0-ac81dcf3f501",
   "metadata": {},
   "outputs": [],
   "source": [
    "renv = RunEnv({\n",
    "    'a': 3,\n",
    "    'df': pd.DataFrame([[4]])\n",
    "})\n",
    "\n",
    "renv.save(\n",
    "    './ex/'\n",
    ")\n",
    "# display(renv._env)\n",
    "renv2 = load_runenv('./ex/')"
   ]
  },
  {
   "cell_type": "code",
   "execution_count": 10,
   "id": "e46f0603-57bc-414b-b53c-a2ef945a5586",
   "metadata": {},
   "outputs": [
    {
     "name": "stdout",
     "output_type": "stream",
     "text": [
      "2300262129056\n"
     ]
    },
    {
     "data": {
      "text/plain": [
       "{'e': 'f_n',\n",
       " 'lst': [],\n",
       " 'np': <module 'numpy' from 'C:\\\\Users\\\\Nagato\\\\AppData\\\\Local\\\\Programs\\\\Python\\\\Python311\\\\Lib\\\\site-packages\\\\numpy\\\\__init__.py'>,\n",
       " 'pd': <module 'pandas' from 'C:\\\\Users\\\\Nagato\\\\AppData\\\\Local\\\\Programs\\\\Python\\\\Python311\\\\Lib\\\\site-packages\\\\pandas\\\\__init__.py'>,\n",
       " '__preamble__': {'__steps__': [{'step': Function(arg_cat='', tags={'import_lib', 'function'}),\n",
       "    'kwargs': {}},\n",
       "   {'step': Function(arg_cat='s', tags={'function'}), 'kwargs': {}},\n",
       "   {'step': Function(arg_cat='f', tags={'function'}),\n",
       "    'kwargs': {'s': 'f_d', 'e': 'f_n', 'h': 3}},\n",
       "   {'step': Function(arg_cat='', tags={'function'}), 'kwargs': {}},\n",
       "   {'step': Delete(arg_cat='', tags={'delete'}), 'kwargs': {}},\n",
       "   {'step': Function(arg_cat='', tags={'add_variables'}), 'kwargs': {}}]},\n",
       " '_': 3,\n",
       " 'b': 10,\n",
       " 'c': 'f_d',\n",
       " 'r': None,\n",
       " 'j': '3'}"
      ]
     },
     "execution_count": 10,
     "metadata": {},
     "output_type": "execute_result"
    }
   ],
   "source": [
    "import numpy as np\n",
    "import time\n",
    "\n",
    "def dummy():\n",
    "    print(id(time))\n",
    "    time.sleep(1)\n",
    "    return \n",
    "    \n",
    "def dummy2(env, kw):\n",
    "    env['myid'] = id(env)\n",
    "    env['lst'].append(id(env))\n",
    "\n",
    "pipe = Pipeline([\n",
    "    Function(lambda : 3, arg_cat='s')\n",
    "]).add_step(\n",
    "    step=Function(\n",
    "        fun=lambda x, s, e, f, h: (x**2+1, s, e, f, h),\n",
    "        args=Var('a'),\n",
    "        kw={'e': Var('a'), 'f': 8, 'h': 5},\n",
    "        out_var=('b', 'c', 'e', 'f', 'h'),\n",
    "        arg_cat='f',\n",
    "    )\n",
    ").add_import_lib(\n",
    "    {'numpy': 'np', 'pandas': 'pd'},    index=0\n",
    ").add_step(Function(dummy, out_var='r')).add_delete(\n",
    "    ['f', 'h', 'a']  # remove variables 'f' and 'h'\n",
    ").add_variables_dict({\n",
    "    'j': '3'\n",
    "})\n",
    "pipe\n",
    "env = pipe.run(RunEnv({'a': 3, 'e': 'k', 'lst': []}), {'f_s': 'f_d', 'f_e': 'f_n', 'f_h': 3})\n",
    "env._env"
   ]
  },
  {
   "cell_type": "code",
   "execution_count": 11,
   "id": "36194a96-472d-402c-9b51-206579a716dc",
   "metadata": {},
   "outputs": [
    {
     "data": {
      "text/plain": [
       "Pipeline(steps=[\n",
       "  Function(arg_cat='', tags={'import_lib', 'function'}), \n",
       "  Function(arg_cat='s', tags={'function'})\n",
       "], )"
      ]
     },
     "execution_count": 11,
     "metadata": {},
     "output_type": "execute_result"
    }
   ],
   "source": [
    "debug_pipe = DebugPipeline(pipe)\n",
    "debug_pipe.loc[: 2]"
   ]
  },
  {
   "cell_type": "code",
   "execution_count": 11,
   "id": "3b566f5f-cdce-42d0-8175-017ca90774a9",
   "metadata": {},
   "outputs": [
    {
     "data": {
      "text/plain": [
       "[{'required_vars': set(),\n",
       "  'unresolved_vars': set(),\n",
       "  'unresolved_vars_accum': set(),\n",
       "  'env_vars': set(),\n",
       "  'removed_vars': set(),\n",
       "  'added_vars': {'np', 'pd'},\n",
       "  'steptype': 'Function',\n",
       "  'arg_cat': '',\n",
       "  'tags': {'function', 'import_lib'}},\n",
       " {'required_vars': set(),\n",
       "  'unresolved_vars': set(),\n",
       "  'unresolved_vars_accum': set(),\n",
       "  'env_vars': {'np', 'pd'},\n",
       "  'removed_vars': set(),\n",
       "  'added_vars': set(),\n",
       "  'steptype': 'Function',\n",
       "  'arg_cat': 's',\n",
       "  'tags': {'function'}},\n",
       " {'required_vars': {'a'},\n",
       "  'unresolved_vars': {'a'},\n",
       "  'unresolved_vars_accum': {'a'},\n",
       "  'env_vars': {'np', 'pd'},\n",
       "  'removed_vars': set(),\n",
       "  'added_vars': {'b', 'c', 'e', 'f', 'h'},\n",
       "  'steptype': 'Function',\n",
       "  'arg_cat': 'f',\n",
       "  'tags': {'function'}},\n",
       " {'required_vars': set(),\n",
       "  'unresolved_vars': set(),\n",
       "  'unresolved_vars_accum': {'a'},\n",
       "  'env_vars': {'b', 'c', 'e', 'f', 'h', 'np', 'pd'},\n",
       "  'removed_vars': set(),\n",
       "  'added_vars': {'r'},\n",
       "  'steptype': 'Function',\n",
       "  'arg_cat': '',\n",
       "  'tags': {'function'}},\n",
       " {'required_vars': set(),\n",
       "  'unresolved_vars': set(),\n",
       "  'unresolved_vars_accum': {'a'},\n",
       "  'env_vars': {'b', 'c', 'e', 'f', 'h', 'np', 'pd', 'r'},\n",
       "  'removed_vars': {'a', 'f', 'h'},\n",
       "  'added_vars': set(),\n",
       "  'steptype': 'Delete',\n",
       "  'arg_cat': '',\n",
       "  'tags': {'delete'}},\n",
       " {'required_vars': set(),\n",
       "  'unresolved_vars': set(),\n",
       "  'unresolved_vars_accum': {'a'},\n",
       "  'env_vars': {'b', 'c', 'e', 'np', 'pd', 'r'},\n",
       "  'removed_vars': set(),\n",
       "  'added_vars': {'j'},\n",
       "  'steptype': 'Function',\n",
       "  'arg_cat': '',\n",
       "  'tags': {'add_variables'}}]"
      ]
     },
     "execution_count": 11,
     "metadata": {},
     "output_type": "execute_result"
    }
   ],
   "source": [
    "pipe.get_env_info()"
   ]
  },
  {
   "cell_type": "code",
   "execution_count": 12,
   "id": "f7a0ed86-b0e9-4866-a85b-3ecbe929b843",
   "metadata": {},
   "outputs": [
    {
     "data": {
      "text/plain": [
       "[{'required_vars': set(),\n",
       "  'unresolved_vars': set(),\n",
       "  'unresolved_vars_accum': set(),\n",
       "  'env_vars': set(),\n",
       "  'removed_vars': set(),\n",
       "  'added_vars': {'pipe4_np', 'pipe4_pd'},\n",
       "  'steptype': 'Function',\n",
       "  'arg_cat': '',\n",
       "  'tags': {'function', 'import_lib'}},\n",
       " {'required_vars': set(),\n",
       "  'unresolved_vars': set(),\n",
       "  'unresolved_vars_accum': set(),\n",
       "  'env_vars': {'pipe4_np', 'pipe4_pd'},\n",
       "  'removed_vars': set(),\n",
       "  'added_vars': set(),\n",
       "  'steptype': 'Function',\n",
       "  'arg_cat': 's',\n",
       "  'tags': {'function'}},\n",
       " {'required_vars': {'pipe4_a'},\n",
       "  'unresolved_vars': {'pipe4_a'},\n",
       "  'unresolved_vars_accum': {'pipe4_a'},\n",
       "  'env_vars': {'pipe4_np', 'pipe4_pd'},\n",
       "  'removed_vars': set(),\n",
       "  'added_vars': {'pipe4_b', 'pipe4_c', 'pipe4_e', 'pipe4_f', 'pipe4_h'},\n",
       "  'steptype': 'Function',\n",
       "  'arg_cat': 'f',\n",
       "  'tags': {'function'}},\n",
       " {'required_vars': set(),\n",
       "  'unresolved_vars': set(),\n",
       "  'unresolved_vars_accum': {'pipe4_a'},\n",
       "  'env_vars': {'pipe4_b',\n",
       "   'pipe4_c',\n",
       "   'pipe4_e',\n",
       "   'pipe4_f',\n",
       "   'pipe4_h',\n",
       "   'pipe4_np',\n",
       "   'pipe4_pd'},\n",
       "  'removed_vars': set(),\n",
       "  'added_vars': {'pipe4_r'},\n",
       "  'steptype': 'Function',\n",
       "  'arg_cat': '',\n",
       "  'tags': {'function'}},\n",
       " {'required_vars': set(),\n",
       "  'unresolved_vars': set(),\n",
       "  'unresolved_vars_accum': {'pipe4_a'},\n",
       "  'env_vars': {'pipe4_b',\n",
       "   'pipe4_c',\n",
       "   'pipe4_e',\n",
       "   'pipe4_f',\n",
       "   'pipe4_h',\n",
       "   'pipe4_np',\n",
       "   'pipe4_pd',\n",
       "   'pipe4_r'},\n",
       "  'removed_vars': {'pipe4_a', 'pipe4_f', 'pipe4_h'},\n",
       "  'added_vars': set(),\n",
       "  'steptype': 'Delete',\n",
       "  'arg_cat': '',\n",
       "  'tags': {'delete'}},\n",
       " {'required_vars': set(),\n",
       "  'unresolved_vars': set(),\n",
       "  'unresolved_vars_accum': {'pipe4_a'},\n",
       "  'env_vars': {'pipe4_b',\n",
       "   'pipe4_c',\n",
       "   'pipe4_e',\n",
       "   'pipe4_np',\n",
       "   'pipe4_pd',\n",
       "   'pipe4_r'},\n",
       "  'removed_vars': set(),\n",
       "  'added_vars': {'pipe4_j'},\n",
       "  'steptype': 'Function',\n",
       "  'arg_cat': '',\n",
       "  'tags': {'add_variables'}}]"
      ]
     },
     "execution_count": 12,
     "metadata": {},
     "output_type": "execute_result"
    }
   ],
   "source": [
    "pipe4 = pipe.copy()\n",
    "pipe4.rename(lambda x: 'pipe4_'+x)\n",
    "pipe4.get_env_info()"
   ]
  },
  {
   "cell_type": "code",
   "execution_count": 13,
   "id": "7e130de4-a449-48a5-92dc-9319dc916646",
   "metadata": {},
   "outputs": [
    {
     "data": {
      "text/plain": [
       "Pipeline(steps=[\n",
       "  Function(arg_cat='', tags={'function', 'import_lib'}), \n",
       "  Function(arg_cat='s', tags={'function'})\n",
       "], )"
      ]
     },
     "execution_count": 13,
     "metadata": {},
     "output_type": "execute_result"
    }
   ],
   "source": [
    "pipe4.loc[:2].rename(lambda x: 'ss_'+x)"
   ]
  },
  {
   "cell_type": "code",
   "execution_count": 14,
   "id": "622374d5-2374-415b-ad0e-523292b518c3",
   "metadata": {},
   "outputs": [
    {
     "data": {
      "text/plain": [
       "[{'required_vars': set(),\n",
       "  'unresolved_vars': set(),\n",
       "  'unresolved_vars_accum': set(),\n",
       "  'env_vars': set(),\n",
       "  'removed_vars': set(),\n",
       "  'added_vars': {'ss_pipe4_np', 'ss_pipe4_pd'},\n",
       "  'steptype': 'Function',\n",
       "  'arg_cat': '',\n",
       "  'tags': {'function', 'import_lib'}},\n",
       " {'required_vars': set(),\n",
       "  'unresolved_vars': set(),\n",
       "  'unresolved_vars_accum': set(),\n",
       "  'env_vars': {'ss_pipe4_np', 'ss_pipe4_pd'},\n",
       "  'removed_vars': set(),\n",
       "  'added_vars': set(),\n",
       "  'steptype': 'Function',\n",
       "  'arg_cat': 's',\n",
       "  'tags': {'function'}},\n",
       " {'required_vars': {'pipe4_a'},\n",
       "  'unresolved_vars': {'pipe4_a'},\n",
       "  'unresolved_vars_accum': {'pipe4_a'},\n",
       "  'env_vars': {'ss_pipe4_np', 'ss_pipe4_pd'},\n",
       "  'removed_vars': set(),\n",
       "  'added_vars': {'pipe4_b', 'pipe4_c', 'pipe4_e', 'pipe4_f', 'pipe4_h'},\n",
       "  'steptype': 'Function',\n",
       "  'arg_cat': 'f',\n",
       "  'tags': {'function'}},\n",
       " {'required_vars': set(),\n",
       "  'unresolved_vars': set(),\n",
       "  'unresolved_vars_accum': {'pipe4_a'},\n",
       "  'env_vars': {'pipe4_b',\n",
       "   'pipe4_c',\n",
       "   'pipe4_e',\n",
       "   'pipe4_f',\n",
       "   'pipe4_h',\n",
       "   'ss_pipe4_np',\n",
       "   'ss_pipe4_pd'},\n",
       "  'removed_vars': set(),\n",
       "  'added_vars': {'pipe4_r'},\n",
       "  'steptype': 'Function',\n",
       "  'arg_cat': '',\n",
       "  'tags': {'function'}},\n",
       " {'required_vars': set(),\n",
       "  'unresolved_vars': set(),\n",
       "  'unresolved_vars_accum': {'pipe4_a'},\n",
       "  'env_vars': {'pipe4_b',\n",
       "   'pipe4_c',\n",
       "   'pipe4_e',\n",
       "   'pipe4_f',\n",
       "   'pipe4_h',\n",
       "   'pipe4_r',\n",
       "   'ss_pipe4_np',\n",
       "   'ss_pipe4_pd'},\n",
       "  'removed_vars': {'pipe4_a', 'pipe4_f', 'pipe4_h'},\n",
       "  'added_vars': set(),\n",
       "  'steptype': 'Delete',\n",
       "  'arg_cat': '',\n",
       "  'tags': {'delete'}},\n",
       " {'required_vars': set(),\n",
       "  'unresolved_vars': set(),\n",
       "  'unresolved_vars_accum': {'pipe4_a'},\n",
       "  'env_vars': {'pipe4_b',\n",
       "   'pipe4_c',\n",
       "   'pipe4_e',\n",
       "   'pipe4_r',\n",
       "   'ss_pipe4_np',\n",
       "   'ss_pipe4_pd'},\n",
       "  'removed_vars': set(),\n",
       "  'added_vars': {'pipe4_j'},\n",
       "  'steptype': 'Function',\n",
       "  'arg_cat': '',\n",
       "  'tags': {'add_variables'}}]"
      ]
     },
     "execution_count": 14,
     "metadata": {},
     "output_type": "execute_result"
    }
   ],
   "source": [
    "pipe4.get_env_info()"
   ]
  },
  {
   "cell_type": "code",
   "execution_count": 15,
   "id": "da65b238-0e2d-4842-9e98-fe00070fb412",
   "metadata": {},
   "outputs": [
    {
     "data": {
      "text/plain": [
       "True"
      ]
     },
     "execution_count": 15,
     "metadata": {},
     "output_type": "execute_result"
    }
   ],
   "source": [
    "isinstance(slice(None), slice)"
   ]
  },
  {
   "cell_type": "code",
   "execution_count": 16,
   "id": "349b29b6-bc5b-4047-bf07-b826e568020f",
   "metadata": {},
   "outputs": [
    {
     "data": {
      "text/plain": [
       "[Function(arg_cat='', tags={'function', 'import_lib'}),\n",
       " Function(arg_cat='s', tags={'function'}),\n",
       " Function(arg_cat='f', tags={'function'}),\n",
       " Function(arg_cat='', tags={'function'}),\n",
       " Delete(arg_cat='', tags={'delete'}),\n",
       " Function(arg_cat='', tags={'add_variables'})]"
      ]
     },
     "execution_count": 16,
     "metadata": {},
     "output_type": "execute_result"
    }
   ],
   "source": [
    "pipe.to_list()"
   ]
  },
  {
   "cell_type": "code",
   "execution_count": 17,
   "id": "8b122b00-b895-4953-b2f1-1354ad9ff1e9",
   "metadata": {},
   "outputs": [
    {
     "name": "stdout",
     "output_type": "stream",
     "text": [
      "2187793767840\n"
     ]
    },
    {
     "data": {
      "text/plain": [
       "{'e': 'f_n', 'lst': [], 'np': <module 'numpy' from 'C:\\\\Users\\\\Nagato\\\\AppData\\\\Local\\\\Programs\\\\Python\\\\Python311\\\\Lib\\\\site-packages\\\\numpy\\\\__init__.py'>, 'pd': <module 'pandas' from 'C:\\\\Users\\\\Nagato\\\\AppData\\\\Local\\\\Programs\\\\Python\\\\Python311\\\\Lib\\\\site-packages\\\\pandas\\\\__init__.py'>, '__preamble__': {'__steps__': [{'step': Function(arg_cat='', tags={'function', 'import_lib'}), 'kwargs': {}}, {'step': Function(arg_cat='s', tags={'function'}), 'kwargs': {}}, {'step': Function(arg_cat='f', tags={'function'}), 'kwargs': {'s': 'f_d', 'e': 'f_n', 'h': 3}}, {'step': Function(arg_cat='', tags={'function'}), 'kwargs': {}}, {'step': Delete(arg_cat='', tags={'delete'}), 'kwargs': {}}, {'step': Function(arg_cat='', tags={'add_variables'}), 'kwargs': {}}]}, '_': 3, 'b': 10, 'c': 'f_d', 'r': None, 'j': '3'}"
      ]
     },
     "execution_count": 17,
     "metadata": {},
     "output_type": "execute_result"
    }
   ],
   "source": [
    "pipe.run(RunEnv({'a': 3, 'e': 'k', 'lst': []}), {'f_s': 'f_d', 'f_e': 'f_n', 'f_h': 3})"
   ]
  },
  {
   "cell_type": "code",
   "execution_count": 18,
   "id": "edb72186-4ca7-466a-94fc-89586285c8da",
   "metadata": {},
   "outputs": [],
   "source": [
    "from streamline.pipeline import run_parallel\n",
    "\n",
    "res_par = run_parallel([\n",
    "    (pipe, {'a': 3, 'e': 'k', 'lst': []}, {'f_s': 'f_d', 'f_e': 'f_n', 'f_h': 3}),\n",
    "    (pipe, {'a': 3, 'e': 'k', 'lst': []}, {'f_s': 'f_d', 'f_e': 'f_n', 'f_h': 3}),\n",
    "])"
   ]
  },
  {
   "cell_type": "code",
   "execution_count": 19,
   "id": "c350944e-14e0-46ce-bbaa-fa8215f02ced",
   "metadata": {},
   "outputs": [
    {
     "data": {
      "text/plain": [
       "{'e': 'f_n', 'lst': [], 'np': <module 'numpy' from 'C:\\\\Users\\\\Nagato\\\\AppData\\\\Local\\\\Programs\\\\Python\\\\Python311\\\\Lib\\\\site-packages\\\\numpy\\\\__init__.py'>, 'pd': <module 'pandas' from 'C:\\\\Users\\\\Nagato\\\\AppData\\\\Local\\\\Programs\\\\Python\\\\Python311\\\\Lib\\\\site-packages\\\\pandas\\\\__init__.py'>, '__preamble__': {'__steps__': [{'step': Function(arg_cat='', tags={'function', 'import_lib'}), 'kwargs': {}}, {'step': Function(arg_cat='s', tags={'function'}), 'kwargs': {}}, {'step': Function(arg_cat='f', tags={'function'}), 'kwargs': {'s': 'f_d', 'e': 'f_n', 'h': 3}}, {'step': Function(arg_cat='', tags={'function'}), 'kwargs': {}}, {'step': Delete(arg_cat='', tags={'delete'}), 'kwargs': {}}, {'step': Function(arg_cat='', tags={'add_variables'}), 'kwargs': {}}]}, '_': 3, 'b': 10, 'c': 'f_d', 'r': None, 'j': '3'}"
      ]
     },
     "execution_count": 19,
     "metadata": {},
     "output_type": "execute_result"
    }
   ],
   "source": [
    "res_par[1]"
   ]
  },
  {
   "cell_type": "code",
   "execution_count": 20,
   "id": "158bcbf8-800d-4ac3-9031-0484e0269a11",
   "metadata": {},
   "outputs": [
    {
     "data": {
      "text/plain": [
       "'s'"
      ]
     },
     "execution_count": 20,
     "metadata": {},
     "output_type": "execute_result"
    }
   ],
   "source": [
    "from streamline import eval_delay, step\n",
    "\n",
    "eval_delay(step.arg_cat, {'step': Function(lambda x: x, arg_cat='s')})"
   ]
  },
  {
   "cell_type": "code",
   "execution_count": 21,
   "id": "6b45a88e-b4d3-438a-9a2e-c4320eb4f777",
   "metadata": {},
   "outputs": [
    {
     "data": {
      "text/plain": [
       "[[{'e': 'f_n', 'lst': [], 'np': <module 'numpy' from 'C:\\\\Users\\\\Nagato\\\\AppData\\\\Local\\\\Programs\\\\Python\\\\Python311\\\\Lib\\\\site-packages\\\\numpy\\\\__init__.py'>, 'pd': <module 'pandas' from 'C:\\\\Users\\\\Nagato\\\\AppData\\\\Local\\\\Programs\\\\Python\\\\Python311\\\\Lib\\\\site-packages\\\\pandas\\\\__init__.py'>, '__preamble__': {'__steps__': [{'step': Function(arg_cat='', tags={'function', 'import_lib'}), 'kwargs': {}}, {'step': Function(arg_cat='s', tags={'function'}), 'kwargs': {}}, {'step': Function(arg_cat='f', tags={'function'}), 'kwargs': {'s': 'f_d', 'e': 'f_n', 'h': 0}}, {'step': Function(arg_cat='', tags={'function'}), 'kwargs': {}}, {'step': Delete(arg_cat='', tags={'delete'}), 'kwargs': {}}, {'step': Function(arg_cat='', tags={'add_variables'}), 'kwargs': {}}]}, '_': 3, 'b': 10, 'c': 'f_d', 'r': None, 'j': '3'},\n",
       "  {'e': 'f_n', 'lst': [], 'np': <module 'numpy' from 'C:\\\\Users\\\\Nagato\\\\AppData\\\\Local\\\\Programs\\\\Python\\\\Python311\\\\Lib\\\\site-packages\\\\numpy\\\\__init__.py'>, 'pd': <module 'pandas' from 'C:\\\\Users\\\\Nagato\\\\AppData\\\\Local\\\\Programs\\\\Python\\\\Python311\\\\Lib\\\\site-packages\\\\pandas\\\\__init__.py'>, '__preamble__': {'__steps__': [{'step': Function(arg_cat='', tags={'function', 'import_lib'}), 'kwargs': {}}, {'step': Function(arg_cat='s', tags={'function'}), 'kwargs': {}}, {'step': Function(arg_cat='f', tags={'function'}), 'kwargs': {'s': 'f_d', 'e': 'f_n', 'h': 1}}, {'step': Function(arg_cat='', tags={'function'}), 'kwargs': {}}, {'step': Delete(arg_cat='', tags={'delete'}), 'kwargs': {}}, {'step': Function(arg_cat='', tags={'add_variables'}), 'kwargs': {}}]}, '_': 3, 'b': 10, 'c': 'f_d', 'r': None, 'j': '3'},\n",
       "  {'e': 'f_n', 'lst': [], 'np': <module 'numpy' from 'C:\\\\Users\\\\Nagato\\\\AppData\\\\Local\\\\Programs\\\\Python\\\\Python311\\\\Lib\\\\site-packages\\\\numpy\\\\__init__.py'>, 'pd': <module 'pandas' from 'C:\\\\Users\\\\Nagato\\\\AppData\\\\Local\\\\Programs\\\\Python\\\\Python311\\\\Lib\\\\site-packages\\\\pandas\\\\__init__.py'>, '__preamble__': {'__steps__': [{'step': Function(arg_cat='', tags={'function', 'import_lib'}), 'kwargs': {}}, {'step': Function(arg_cat='s', tags={'function'}), 'kwargs': {}}, {'step': Function(arg_cat='f', tags={'function'}), 'kwargs': {'s': 'f_d', 'e': 'f_n', 'h': 2}}, {'step': Function(arg_cat='', tags={'function'}), 'kwargs': {}}, {'step': Delete(arg_cat='', tags={'delete'}), 'kwargs': {}}, {'step': Function(arg_cat='', tags={'add_variables'}), 'kwargs': {}}]}, '_': 3, 'b': 10, 'c': 'f_d', 'r': None, 'j': '3'},\n",
       "  {'e': 'f_n', 'lst': [], 'np': <module 'numpy' from 'C:\\\\Users\\\\Nagato\\\\AppData\\\\Local\\\\Programs\\\\Python\\\\Python311\\\\Lib\\\\site-packages\\\\numpy\\\\__init__.py'>, 'pd': <module 'pandas' from 'C:\\\\Users\\\\Nagato\\\\AppData\\\\Local\\\\Programs\\\\Python\\\\Python311\\\\Lib\\\\site-packages\\\\pandas\\\\__init__.py'>, '__preamble__': {'__steps__': [{'step': Function(arg_cat='', tags={'function', 'import_lib'}), 'kwargs': {}}, {'step': Function(arg_cat='s', tags={'function'}), 'kwargs': {}}, {'step': Function(arg_cat='f', tags={'function'}), 'kwargs': {'s': 'f_d', 'e': 'f_n', 'h': 3}}, {'step': Function(arg_cat='', tags={'function'}), 'kwargs': {}}, {'step': Delete(arg_cat='', tags={'delete'}), 'kwargs': {}}, {'step': Function(arg_cat='', tags={'add_variables'}), 'kwargs': {}}]}, '_': 3, 'b': 10, 'c': 'f_d', 'r': None, 'j': '3'},\n",
       "  {'e': 'f_n', 'lst': [], 'np': <module 'numpy' from 'C:\\\\Users\\\\Nagato\\\\AppData\\\\Local\\\\Programs\\\\Python\\\\Python311\\\\Lib\\\\site-packages\\\\numpy\\\\__init__.py'>, 'pd': <module 'pandas' from 'C:\\\\Users\\\\Nagato\\\\AppData\\\\Local\\\\Programs\\\\Python\\\\Python311\\\\Lib\\\\site-packages\\\\pandas\\\\__init__.py'>, '__preamble__': {'__steps__': [{'step': Function(arg_cat='', tags={'function', 'import_lib'}), 'kwargs': {}}, {'step': Function(arg_cat='s', tags={'function'}), 'kwargs': {}}, {'step': Function(arg_cat='f', tags={'function'}), 'kwargs': {'s': 'f_d', 'e': 'f_n', 'h': 4}}, {'step': Function(arg_cat='', tags={'function'}), 'kwargs': {}}, {'step': Delete(arg_cat='', tags={'delete'}), 'kwargs': {}}, {'step': Function(arg_cat='', tags={'add_variables'}), 'kwargs': {}}]}, '_': 3, 'b': 10, 'c': 'f_d', 'r': None, 'j': '3'},\n",
       "  {'e': 'f_n', 'lst': [], 'np': <module 'numpy' from 'C:\\\\Users\\\\Nagato\\\\AppData\\\\Local\\\\Programs\\\\Python\\\\Python311\\\\Lib\\\\site-packages\\\\numpy\\\\__init__.py'>, 'pd': <module 'pandas' from 'C:\\\\Users\\\\Nagato\\\\AppData\\\\Local\\\\Programs\\\\Python\\\\Python311\\\\Lib\\\\site-packages\\\\pandas\\\\__init__.py'>, '__preamble__': {'__steps__': [{'step': Function(arg_cat='', tags={'function', 'import_lib'}), 'kwargs': {}}, {'step': Function(arg_cat='s', tags={'function'}), 'kwargs': {}}, {'step': Function(arg_cat='f', tags={'function'}), 'kwargs': {'s': 'f_d', 'e': 'f_n', 'h': 5}}, {'step': Function(arg_cat='', tags={'function'}), 'kwargs': {}}, {'step': Delete(arg_cat='', tags={'delete'}), 'kwargs': {}}, {'step': Function(arg_cat='', tags={'add_variables'}), 'kwargs': {}}]}, '_': 3, 'b': 10, 'c': 'f_d', 'r': None, 'j': '3'},\n",
       "  {'e': 'f_n', 'lst': [], 'np': <module 'numpy' from 'C:\\\\Users\\\\Nagato\\\\AppData\\\\Local\\\\Programs\\\\Python\\\\Python311\\\\Lib\\\\site-packages\\\\numpy\\\\__init__.py'>, 'pd': <module 'pandas' from 'C:\\\\Users\\\\Nagato\\\\AppData\\\\Local\\\\Programs\\\\Python\\\\Python311\\\\Lib\\\\site-packages\\\\pandas\\\\__init__.py'>, '__preamble__': {'__steps__': [{'step': Function(arg_cat='', tags={'function', 'import_lib'}), 'kwargs': {}}, {'step': Function(arg_cat='s', tags={'function'}), 'kwargs': {}}, {'step': Function(arg_cat='f', tags={'function'}), 'kwargs': {'s': 'f_d', 'e': 'f_n', 'h': 6}}, {'step': Function(arg_cat='', tags={'function'}), 'kwargs': {}}, {'step': Delete(arg_cat='', tags={'delete'}), 'kwargs': {}}, {'step': Function(arg_cat='', tags={'add_variables'}), 'kwargs': {}}]}, '_': 3, 'b': 10, 'c': 'f_d', 'r': None, 'j': '3'},\n",
       "  {'e': 'f_n', 'lst': [], 'np': <module 'numpy' from 'C:\\\\Users\\\\Nagato\\\\AppData\\\\Local\\\\Programs\\\\Python\\\\Python311\\\\Lib\\\\site-packages\\\\numpy\\\\__init__.py'>, 'pd': <module 'pandas' from 'C:\\\\Users\\\\Nagato\\\\AppData\\\\Local\\\\Programs\\\\Python\\\\Python311\\\\Lib\\\\site-packages\\\\pandas\\\\__init__.py'>, '__preamble__': {'__steps__': [{'step': Function(arg_cat='', tags={'function', 'import_lib'}), 'kwargs': {}}, {'step': Function(arg_cat='s', tags={'function'}), 'kwargs': {}}, {'step': Function(arg_cat='f', tags={'function'}), 'kwargs': {'s': 'f_d', 'e': 'f_n', 'h': 7}}, {'step': Function(arg_cat='', tags={'function'}), 'kwargs': {}}, {'step': Delete(arg_cat='', tags={'delete'}), 'kwargs': {}}, {'step': Function(arg_cat='', tags={'add_variables'}), 'kwargs': {}}]}, '_': 3, 'b': 10, 'c': 'f_d', 'r': None, 'j': '3'},\n",
       "  {'e': 'f_n', 'lst': [], 'np': <module 'numpy' from 'C:\\\\Users\\\\Nagato\\\\AppData\\\\Local\\\\Programs\\\\Python\\\\Python311\\\\Lib\\\\site-packages\\\\numpy\\\\__init__.py'>, 'pd': <module 'pandas' from 'C:\\\\Users\\\\Nagato\\\\AppData\\\\Local\\\\Programs\\\\Python\\\\Python311\\\\Lib\\\\site-packages\\\\pandas\\\\__init__.py'>, '__preamble__': {'__steps__': [{'step': Function(arg_cat='', tags={'function', 'import_lib'}), 'kwargs': {}}, {'step': Function(arg_cat='s', tags={'function'}), 'kwargs': {}}, {'step': Function(arg_cat='f', tags={'function'}), 'kwargs': {'s': 'f_d', 'e': 'f_n', 'h': 8}}, {'step': Function(arg_cat='', tags={'function'}), 'kwargs': {}}, {'step': Delete(arg_cat='', tags={'delete'}), 'kwargs': {}}, {'step': Function(arg_cat='', tags={'add_variables'}), 'kwargs': {}}]}, '_': 3, 'b': 10, 'c': 'f_d', 'r': None, 'j': '3'},\n",
       "  {'e': 'f_n', 'lst': [], 'np': <module 'numpy' from 'C:\\\\Users\\\\Nagato\\\\AppData\\\\Local\\\\Programs\\\\Python\\\\Python311\\\\Lib\\\\site-packages\\\\numpy\\\\__init__.py'>, 'pd': <module 'pandas' from 'C:\\\\Users\\\\Nagato\\\\AppData\\\\Local\\\\Programs\\\\Python\\\\Python311\\\\Lib\\\\site-packages\\\\pandas\\\\__init__.py'>, '__preamble__': {'__steps__': [{'step': Function(arg_cat='', tags={'function', 'import_lib'}), 'kwargs': {}}, {'step': Function(arg_cat='s', tags={'function'}), 'kwargs': {}}, {'step': Function(arg_cat='f', tags={'function'}), 'kwargs': {'s': 'f_d', 'e': 'f_n', 'h': 9}}, {'step': Function(arg_cat='', tags={'function'}), 'kwargs': {}}, {'step': Delete(arg_cat='', tags={'delete'}), 'kwargs': {}}, {'step': Function(arg_cat='', tags={'add_variables'}), 'kwargs': {}}]}, '_': 3, 'b': 10, 'c': 'f_d', 'r': None, 'j': '3'}]]"
      ]
     },
     "execution_count": 21,
     "metadata": {},
     "output_type": "execute_result"
    }
   ],
   "source": [
    "base_env = RunEnv({'a': 3, 'e': 'k', 'lst': []})\n",
    "env_l = pipe.run_parallel([base_env], [{'f_s': 'f_d', 'f_e': 'f_n', 'f_h': i} for i in range(10)])\n",
    "env_l"
   ]
  },
  {
   "cell_type": "code",
   "execution_count": 22,
   "id": "14bee71f-b59b-4964-90c9-878b5964ba5d",
   "metadata": {},
   "outputs": [
    {
     "data": {
      "text/plain": [
       "[]"
      ]
     },
     "execution_count": 22,
     "metadata": {},
     "output_type": "execute_result"
    }
   ],
   "source": [
    "base_env['lst']"
   ]
  },
  {
   "cell_type": "code",
   "execution_count": 23,
   "id": "ba22ffed-216f-4020-a636-1e64a0264f7e",
   "metadata": {},
   "outputs": [
    {
     "data": {
      "text/plain": [
       "[[], [], [], [], [], [], [], [], [], []]"
      ]
     },
     "execution_count": 23,
     "metadata": {},
     "output_type": "execute_result"
    }
   ],
   "source": [
    "[c['lst'] for c in env_l[0]]"
   ]
  },
  {
   "cell_type": "code",
   "execution_count": 24,
   "id": "4a90ab1b-2818-46f6-8171-71c8435718cb",
   "metadata": {},
   "outputs": [
    {
     "data": {
      "text/plain": [
       "[[0, 1, 2, 3, 4], [5, 6, 7, 8, 9]]"
      ]
     },
     "execution_count": 24,
     "metadata": {},
     "output_type": "execute_result"
    }
   ],
   "source": [
    "s = list(range(10))\n",
    "s = [s[i:i+5] for i in range(0, 10, 5)]\n",
    "s"
   ]
  },
  {
   "cell_type": "code",
   "execution_count": 25,
   "id": "73510715-2ed3-4fae-b721-ff9b8d033bb4",
   "metadata": {},
   "outputs": [
    {
     "data": {
      "text/plain": [
       "Pipeline(steps=[\n",
       "  Function(arg_cat='', tags={'function', 'import_lib'}), \n",
       "  Function(arg_cat='s', tags={'function'}), \n",
       "  Function(arg_cat='f', tags={'function'}), \n",
       "  Function(arg_cat='', tags={'function'}), \n",
       "  Delete(arg_cat='', tags={'delete'}), \n",
       "  Function(arg_cat='', tags={'add_variables'})\n",
       "], )"
      ]
     },
     "execution_count": 25,
     "metadata": {},
     "output_type": "execute_result"
    }
   ],
   "source": [
    "env.gen_pipeline()"
   ]
  },
  {
   "cell_type": "code",
   "execution_count": 26,
   "id": "2e311710-8987-45ad-a6ef-cf5d35d4f4de",
   "metadata": {},
   "outputs": [
    {
     "data": {
      "text/plain": [
       "Pipeline(steps=[\n",
       "  Function(arg_cat='', tags={'function', 'import_lib'}), \n",
       "  Function(arg_cat='s', tags={'function'}), \n",
       "  Function(arg_cat='f', tags={'function'}), \n",
       "  Function(arg_cat='', tags={'function'}), \n",
       "  Delete(arg_cat='', tags={'delete'}), \n",
       "  Function(arg_cat='', tags={'add_variables'})\n",
       "], )"
      ]
     },
     "execution_count": 26,
     "metadata": {},
     "output_type": "execute_result"
    }
   ],
   "source": [
    "pipe"
   ]
  },
  {
   "cell_type": "code",
   "execution_count": 27,
   "id": "1cd7fbdb-0ac2-4b6e-886b-d90d0aaec34c",
   "metadata": {},
   "outputs": [
    {
     "data": {
      "text/plain": [
       "Pipeline(steps=[\n",
       "  Function(arg_cat='', tags={'function', 'import_lib'}), \n",
       "  Function(arg_cat='s', tags={'function'})\n",
       "], )"
      ]
     },
     "execution_count": 27,
     "metadata": {},
     "output_type": "execute_result"
    }
   ],
   "source": [
    "pipe.loc[[0, 1]]"
   ]
  },
  {
   "cell_type": "code",
   "execution_count": 28,
   "id": "5688baf3-0821-4e32-975d-030dc6d4d872",
   "metadata": {},
   "outputs": [],
   "source": [
    "pipe.loc[[0, 1]] = Function(arg_cat='d', fun=lambda x: x)"
   ]
  },
  {
   "cell_type": "code",
   "execution_count": 29,
   "id": "6de66f5c-59ee-47c1-a318-f42e2b6ca793",
   "metadata": {},
   "outputs": [
    {
     "data": {
      "text/plain": [
       "Pipeline(steps=[\n",
       "  Function(arg_cat='d', tags={'function'}), \n",
       "  Function(arg_cat='d', tags={'function'}), \n",
       "  Function(arg_cat='f', tags={'function'}), \n",
       "  Function(arg_cat='', tags={'function'}), \n",
       "  Delete(arg_cat='', tags={'delete'}), \n",
       "  Function(arg_cat='', tags={'add_variables'})\n",
       "], )"
      ]
     },
     "execution_count": 29,
     "metadata": {},
     "output_type": "execute_result"
    }
   ],
   "source": [
    "pipe"
   ]
  },
  {
   "cell_type": "code",
   "execution_count": 30,
   "id": "a8f0a564-9f20-4f88-8330-50e1478fbec2",
   "metadata": {},
   "outputs": [
    {
     "data": {
      "text/plain": [
       "step.arg_cat.startswith(*('s',), **{})"
      ]
     },
     "execution_count": 30,
     "metadata": {},
     "output_type": "execute_result"
    }
   ],
   "source": [
    "step.arg_cat.startswith('s')"
   ]
  },
  {
   "cell_type": "code",
   "execution_count": 31,
   "id": "dfd8cbd6-c1d6-425e-bcd1-83b5a31d736d",
   "metadata": {},
   "outputs": [
    {
     "data": {
      "text/plain": [
       "Pipeline(steps=[\n",
       "  Function(arg_cat='d', tags={'function'}), \n",
       "  Function(arg_cat='d', tags={'function'})\n",
       "], )"
      ]
     },
     "execution_count": 31,
     "metadata": {},
     "output_type": "execute_result"
    }
   ],
   "source": [
    "pipe.loc[step.arg_cat.startswith('d')]"
   ]
  },
  {
   "cell_type": "code",
   "execution_count": 32,
   "id": "f9401090-d5bb-4601-92ea-61c4b51743fe",
   "metadata": {},
   "outputs": [
    {
     "data": {
      "text/plain": [
       "Pipeline(steps=[\n",
       "], )"
      ]
     },
     "execution_count": 32,
     "metadata": {},
     "output_type": "execute_result"
    }
   ],
   "source": [
    "pipe.loc[pipe.apply(lambda x: x.tags is None)]"
   ]
  },
  {
   "cell_type": "code",
   "execution_count": 33,
   "id": "86b81b14-1635-421b-869c-bdd1d948dc4e",
   "metadata": {},
   "outputs": [
    {
     "data": {
      "text/plain": [
       "[Function(arg_cat='d', tags={'function'}),\n",
       " Function(arg_cat='d', tags={'function'}),\n",
       " Function(arg_cat='f', tags={'function'}),\n",
       " Function(arg_cat='', tags={'function'}),\n",
       " Delete(arg_cat='', tags={'delete'}),\n",
       " Function(arg_cat='', tags={'add_variables'})]"
      ]
     },
     "execution_count": 33,
     "metadata": {},
     "output_type": "execute_result"
    }
   ],
   "source": [
    "pipe.to_list()"
   ]
  },
  {
   "cell_type": "code",
   "execution_count": 34,
   "id": "cb60fbad-b6b6-4a59-bf50-1a9271235faf",
   "metadata": {},
   "outputs": [
    {
     "data": {
      "text/plain": [
       "(3 in step.tags)"
      ]
     },
     "execution_count": 34,
     "metadata": {},
     "output_type": "execute_result"
    }
   ],
   "source": [
    "step.tags.contains(3)"
   ]
  },
  {
   "cell_type": "code",
   "execution_count": 35,
   "id": "5bda9c32-7026-449f-a08c-43270a7bf55d",
   "metadata": {},
   "outputs": [
    {
     "name": "stdout",
     "output_type": "stream",
     "text": [
      "(type(*(((3 in step.tags) & (1 in step.tags)),), **{}).__name__ in ['bool'])\n"
     ]
    },
    {
     "data": {
      "text/plain": [
       "True"
      ]
     },
     "execution_count": 35,
     "metadata": {},
     "output_type": "execute_result"
    }
   ],
   "source": [
    "step = Delayed(prefix='step')\n",
    "d = delay_lib.type((step.tags.contains(3)) & (step.tags.contains(1))).__name__.isin(['bool'])\n",
    "print(d)\n",
    "eval_delay(d, env={'step': Function(arg_cat='s', fun=lambda x: x, tags={1, 2})})"
   ]
  },
  {
   "cell_type": "code",
   "execution_count": 36,
   "id": "129ecd43-a2f4-4898-95fb-8e97ea4f4f07",
   "metadata": {},
   "outputs": [
    {
     "data": {
      "text/plain": [
       "False"
      ]
     },
     "execution_count": 36,
     "metadata": {},
     "output_type": "execute_result"
    }
   ],
   "source": [
    "eval_delay(step.tags.contains(3), env={'step': Function(arg_cat='s', fun=lambda x: x, tags={1, 2})})"
   ]
  },
  {
   "cell_type": "code",
   "execution_count": 41,
   "id": "3d1c62d8-24f1-4974-b39c-a11e016f0471",
   "metadata": {},
   "outputs": [],
   "source": []
  }
 ],
 "metadata": {
  "kernelspec": {
   "display_name": "Python 3 (ipykernel)",
   "language": "python",
   "name": "python3"
  },
  "language_info": {
   "codemirror_mode": {
    "name": "ipython",
    "version": 3
   },
   "file_extension": ".py",
   "mimetype": "text/x-python",
   "name": "python",
   "nbconvert_exporter": "python",
   "pygments_lexer": "ipython3",
   "version": "3.11.6"
  }
 },
 "nbformat": 4,
 "nbformat_minor": 5
}
