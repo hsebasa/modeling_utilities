{
 "cells": [
  {
   "cell_type": "code",
   "execution_count": 1,
   "id": "fe632867-ceb1-444e-bda1-9a420b4ce94c",
   "metadata": {},
   "outputs": [],
   "source": [
    "%load_ext autoreload\n",
    "%autoreload 2"
   ]
  },
  {
   "cell_type": "code",
   "execution_count": 12,
   "id": "3e782f18-31d0-400c-a2c8-08bb7c60166c",
   "metadata": {},
   "outputs": [
    {
     "ename": "NameError",
     "evalue": "name 'f' is not defined",
     "output_type": "error",
     "traceback": [
      "\u001b[1;31m---------------------------------------------------------------------------\u001b[0m",
      "\u001b[1;31mNameError\u001b[0m                                 Traceback (most recent call last)",
      "Cell \u001b[1;32mIn[12], line 9\u001b[0m\n\u001b[0;32m      6\u001b[0m     \u001b[38;5;28mprint\u001b[39m(var)\n\u001b[0;32m      7\u001b[0m     \u001b[38;5;28;01mreturn\u001b[39;00m \u001b[38;5;28mglobals\u001b[39m()\u001b[38;5;241m.\u001b[39mkeys()\n\u001b[1;32m----> 9\u001b[0m _, l \u001b[38;5;241m=\u001b[39m \u001b[43mg\u001b[49m\u001b[43m(\u001b[49m\u001b[43mf\u001b[49m\u001b[43m)\u001b[49m\n\u001b[0;32m     10\u001b[0m l\n",
      "File \u001b[1;32m~\\Documents\\Pipeline\\ex_save\\module3.py:13\u001b[0m, in \u001b[0;36mg\u001b[1;34m(f)\u001b[0m\n\u001b[0;32m     11\u001b[0m s \u001b[38;5;241m=\u001b[39m {\u001b[38;5;124m'\u001b[39m\u001b[38;5;124mf\u001b[39m\u001b[38;5;124m'\u001b[39m: f}\n\u001b[0;32m     12\u001b[0m \u001b[38;5;66;03m# temp_module.f = f\u001b[39;00m\n\u001b[1;32m---> 13\u001b[0m \u001b[43mexec\u001b[49m\u001b[43m(\u001b[49m\u001b[38;5;124;43m'\u001b[39;49m\u001b[38;5;124;43mx = f()\u001b[39;49m\u001b[38;5;124;43m'\u001b[39;49m\u001b[43m,\u001b[49m\u001b[43m \u001b[49m\u001b[43mtemp_module\u001b[49m\u001b[38;5;241;43m.\u001b[39;49m\u001b[38;5;18;43m__dict__\u001b[39;49m\u001b[43m)\u001b[49m\n\u001b[0;32m     14\u001b[0m \u001b[38;5;28;01mreturn\u001b[39;00m d, temp_module\u001b[38;5;241m.\u001b[39m\u001b[38;5;18m__dict__\u001b[39m\n",
      "File \u001b[1;32m<string>:1\u001b[0m\n",
      "\u001b[1;31mNameError\u001b[0m: name 'f' is not defined"
     ]
    }
   ],
   "source": [
    "from module3 import g\n",
    "\n",
    "var = 4\n",
    "\n",
    "def f():\n",
    "    print(var)\n",
    "    return globals().keys()\n",
    "\n",
    "_, l = g(f)\n",
    "l"
   ]
  },
  {
   "cell_type": "code",
   "execution_count": 1,
   "id": "aa410720-5884-4287-814c-acce4aac677f",
   "metadata": {},
   "outputs": [
    {
     "data": {
      "text/plain": [
       "'module2'"
      ]
     },
     "execution_count": 1,
     "metadata": {},
     "output_type": "execute_result"
    }
   ],
   "source": [
    "from module2 import g\n",
    "\n",
    "g.__module__"
   ]
  },
  {
   "cell_type": "code",
   "execution_count": 3,
   "id": "a4de8f67-7241-4ac5-9b9d-bd2a5ed20142",
   "metadata": {},
   "outputs": [
    {
     "name": "stdout",
     "output_type": "stream",
     "text": [
      "Instruction(opname='RESUME', opcode=151, arg=0, argval=0, argrepr='', offset=0, starts_line=4, is_jump_target=False, positions=Positions(lineno=4, end_lineno=4, col_offset=0, end_col_offset=0))\n",
      "Instruction(opname='LOAD_GLOBAL', opcode=116, arg=1, argval='f', argrepr='NULL + f', offset=2, starts_line=5, is_jump_target=False, positions=Positions(lineno=5, end_lineno=5, col_offset=11, end_col_offset=12))\n",
      "Instruction(opname='LOAD_FAST', opcode=124, arg=0, argval='a', argrepr='a', offset=14, starts_line=None, is_jump_target=False, positions=Positions(lineno=5, end_lineno=5, col_offset=13, end_col_offset=14))\n",
      "Instruction(opname='PRECALL', opcode=166, arg=1, argval=1, argrepr='', offset=16, starts_line=None, is_jump_target=False, positions=Positions(lineno=5, end_lineno=5, col_offset=11, end_col_offset=15))\n",
      "Instruction(opname='CALL', opcode=171, arg=1, argval=1, argrepr='', offset=20, starts_line=None, is_jump_target=False, positions=Positions(lineno=5, end_lineno=5, col_offset=11, end_col_offset=15))\n",
      "Instruction(opname='RETURN_VALUE', opcode=83, arg=None, argval=None, argrepr='', offset=30, starts_line=None, is_jump_target=False, positions=Positions(lineno=5, end_lineno=5, col_offset=4, end_col_offset=15))\n"
     ]
    },
    {
     "data": {
      "text/plain": [
       "{'f'}"
      ]
     },
     "execution_count": 3,
     "metadata": {},
     "output_type": "execute_result"
    }
   ],
   "source": [
    "import dis\n",
    "\n",
    "def get_global_dependencies(func):\n",
    "    \"\"\"\n",
    "    Returns a set of global variable names accessed by the function.\n",
    "    \"\"\"\n",
    "    dependencies = set()\n",
    "    for instr in dis.get_instructions(func):\n",
    "        print(instr)\n",
    "        if instr.opname == 'LOAD_GLOBAL':\n",
    "            dependencies.add(instr.argval)\n",
    "    return dependencies\n",
    "\n",
    "get_global_dependencies(g)"
   ]
  },
  {
   "cell_type": "code",
   "execution_count": 10,
   "id": "2bb559f1-a2e9-48f6-ae6c-f4c904bcaf6e",
   "metadata": {},
   "outputs": [
    {
     "name": "stdout",
     "output_type": "stream",
     "text": [
      "def g(a):\n",
      "    return f(a)\n",
      "\n"
     ]
    },
    {
     "ename": "NameError",
     "evalue": "name 'f' is not defined",
     "output_type": "error",
     "traceback": [
      "\u001b[1;31m---------------------------------------------------------------------------\u001b[0m",
      "\u001b[1;31mNameError\u001b[0m                                 Traceback (most recent call last)",
      "Cell \u001b[1;32mIn[10], line 19\u001b[0m\n\u001b[0;32m     16\u001b[0m     \u001b[38;5;28;01mreturn\u001b[39;00m d\n\u001b[0;32m     18\u001b[0m s \u001b[38;5;241m=\u001b[39m mainify(g)\n\u001b[1;32m---> 19\u001b[0m \u001b[43ms\u001b[49m\u001b[43m[\u001b[49m\u001b[38;5;124;43m'\u001b[39;49m\u001b[38;5;124;43mg\u001b[39;49m\u001b[38;5;124;43m'\u001b[39;49m\u001b[43m]\u001b[49m\u001b[43m(\u001b[49m\u001b[38;5;241;43m4\u001b[39;49m\u001b[43m)\u001b[49m\n",
      "File \u001b[1;32m<string>:2\u001b[0m, in \u001b[0;36mg\u001b[1;34m(a)\u001b[0m\n",
      "\u001b[1;31mNameError\u001b[0m: name 'f' is not defined"
     ]
    }
   ],
   "source": [
    "import streamline as sl\n",
    "\n",
    "\n",
    "def mainify(obj):\n",
    "    import __main__\n",
    "    import inspect\n",
    "    import ast\n",
    "\n",
    "    s = inspect.getsource(obj)\n",
    "    print(s)\n",
    "    m = ast.parse(s)\n",
    "    co = compile(m, '<string>', 'exec')\n",
    "    # d = __main__.__dict__.copy()\n",
    "    d = dict()\n",
    "    exec(co, d)\n",
    "    return d\n",
    "    \n",
    "s = mainify(g)\n",
    "s['g'](4)"
   ]
  },
  {
   "cell_type": "code",
   "execution_count": 15,
   "id": "2e1035c6-dd7d-4a70-8cb1-c47bf5bf8907",
   "metadata": {},
   "outputs": [
    {
     "data": {
      "text/plain": [
       "'__main__'"
      ]
     },
     "execution_count": 15,
     "metadata": {},
     "output_type": "execute_result"
    }
   ],
   "source": [
    "mainify.__module__"
   ]
  },
  {
   "cell_type": "code",
   "execution_count": null,
   "id": "1459da31-7d93-46a8-99f3-ee6d2e93f7de",
   "metadata": {},
   "outputs": [],
   "source": []
  }
 ],
 "metadata": {
  "kernelspec": {
   "display_name": "Python 3 (ipykernel)",
   "language": "python",
   "name": "python3"
  },
  "language_info": {
   "codemirror_mode": {
    "name": "ipython",
    "version": 3
   },
   "file_extension": ".py",
   "mimetype": "text/x-python",
   "name": "python",
   "nbconvert_exporter": "python",
   "pygments_lexer": "ipython3",
   "version": "3.11.6"
  }
 },
 "nbformat": 4,
 "nbformat_minor": 5
}
