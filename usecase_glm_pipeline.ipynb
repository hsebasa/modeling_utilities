{
 "cells": [
  {
   "cell_type": "code",
   "execution_count": 1,
   "id": "ef07e8ef-a833-4f94-97bb-cf73a37b62d0",
   "metadata": {},
   "outputs": [],
   "source": [
    "# pip install frozendict \n",
    "# pip install pyarrow\n",
    "# pip install -e ./streamline_package\n",
    "# pip install ray[default]"
   ]
  },
  {
   "cell_type": "code",
   "execution_count": 2,
   "id": "05d94513-0ce3-49ab-9e28-ff7e3945a98e",
   "metadata": {},
   "outputs": [],
   "source": [
    "%load_ext autoreload\n",
    "%autoreload 2"
   ]
  },
  {
   "cell_type": "code",
   "execution_count": 3,
   "id": "20374013-800a-4b5e-99c7-2d11b1136d3f",
   "metadata": {},
   "outputs": [],
   "source": [
    "from streamline.delayed import delay_lib, step, Delayed, eval_delay\n",
    "from streamline import RunEnv, load_runenv, Pipeline, Function, Var\n",
    "from streamline.utilities import mainify"
   ]
  },
  {
   "cell_type": "code",
   "execution_count": 4,
   "id": "cfc2d91f-9aa4-46f4-9ba1-6b6ffabbda2a",
   "metadata": {},
   "outputs": [],
   "source": [
    "from sklearn.linear_model import LinearRegression\n",
    "from sklearn.base import BaseEstimator\n",
    "\n",
    "import statsmodels.api as sm\n",
    "import statsmodels\n",
    "\n",
    "from typing import *\n",
    "\n",
    "\n",
    "def gen_train_pipe(\n",
    "        pipe: Optional[Pipeline]=None,\n",
    "    \n",
    "        var_y: Optional[str]='y',\n",
    "        var_X: Optional[str]='X',\n",
    "    \n",
    "        tags: Optional[Set]=None,\n",
    "        prefix: Optional[str]='',\n",
    "\n",
    "        model: Optional=sm.GLM,\n",
    "        kw_def: Optional[Dict]=None,\n",
    "        kw_fit: Optional[Dict]=None,\n",
    "    ):\n",
    "    if pipe is None:\n",
    "        pipe = Pipeline()\n",
    "    if tags is None:\n",
    "        tags = set([])\n",
    "    if kw_def is None:\n",
    "        kw_def = dict()\n",
    "    if kw_fit is None:\n",
    "        kw_fit = dict()\n",
    "\n",
    "    if issubclass(model, statsmodels.base.model.Model):\n",
    "        in_vars_def = [Var(var_y), Var(var_X)]\n",
    "        in_vars_fit = []\n",
    "    elif issubclass(model, BaseEstimator):\n",
    "        in_vars_def = []\n",
    "        in_vars_fit = [Var(var_X), Var(var_y)]\n",
    "    else:\n",
    "        raise NotImplementedError\n",
    "    \n",
    "    pipe.add_step(\n",
    "        Function(\n",
    "            model,\n",
    "            args=in_vars_def,\n",
    "            out_var=f'{prefix}model',\n",
    "            **kw_def,\n",
    "            tags={'glm', 'train_only', 'model_def'}|tags,\n",
    "            arg_cat=f'{prefix}model_def',\n",
    "        ),\n",
    "    )\n",
    "    pipe.add_step(\n",
    "        Function(\n",
    "            lambda model, *a, **kw: model.fit(*a, **kw),\n",
    "            args=[Var(f'{prefix}model')]+in_vars_fit,\n",
    "            out_var=f'{prefix}result',\n",
    "            **kw_fit,\n",
    "            tags={'glm', 'train_only', 'model_fit'}|tags,\n",
    "            arg_cat=f'{prefix}model_fit',\n",
    "        ),\n",
    "    )\n",
    "    return pipe\n",
    "\n",
    "pipe = gen_train_pipe(model=LinearRegression)"
   ]
  },
  {
   "cell_type": "code",
   "execution_count": 5,
   "id": "2fb42013-9ff7-4d26-bd5d-f3ab38755db2",
   "metadata": {},
   "outputs": [],
   "source": [
    "from sklearn.datasets import load_diabetes\n",
    "\n",
    "X, y = load_diabetes(return_X_y=True)"
   ]
  },
  {
   "cell_type": "code",
   "execution_count": 6,
   "id": "ef00ab1a-fdf3-4664-aa4a-432bdcc84f60",
   "metadata": {},
   "outputs": [],
   "source": [
    "res_env = pipe.run({\n",
    "    'X': X,\n",
    "    'y': y,\n",
    "}, kw={\n",
    "    # 'model_fit.cov_type': 'HC1'\n",
    "})"
   ]
  },
  {
   "cell_type": "code",
   "execution_count": 7,
   "id": "e3f08126-0501-46ae-baad-07345e453167",
   "metadata": {},
   "outputs": [
    {
     "data": {
      "text/plain": [
       "<statsmodels.regression.linear_model.OLS at 0x1675cfd14d0>"
      ]
     },
     "execution_count": 7,
     "metadata": {},
     "output_type": "execute_result"
    }
   ],
   "source": [
    "sm.OLS(X, y, offset=None)"
   ]
  },
  {
   "cell_type": "code",
   "execution_count": null,
   "id": "981c20d2-cc7d-407d-9c38-cebfd72a69b5",
   "metadata": {},
   "outputs": [],
   "source": []
  }
 ],
 "metadata": {
  "kernelspec": {
   "display_name": "Python 3 (ipykernel)",
   "language": "python",
   "name": "python3"
  },
  "language_info": {
   "codemirror_mode": {
    "name": "ipython",
    "version": 3
   },
   "file_extension": ".py",
   "mimetype": "text/x-python",
   "name": "python",
   "nbconvert_exporter": "python",
   "pygments_lexer": "ipython3",
   "version": "3.11.6"
  }
 },
 "nbformat": 4,
 "nbformat_minor": 5
}
