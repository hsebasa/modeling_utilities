{
 "cells": [
  {
   "cell_type": "code",
   "execution_count": 1,
   "id": "fec00815-c989-4ce4-b5cc-1a2386aef01e",
   "metadata": {},
   "outputs": [],
   "source": [
    "# pip install frozendict \n",
    "# pip install pyarrow\n",
    "# pip install -e ./streamline_package\n",
    "# pip install ray[default]"
   ]
  },
  {
   "cell_type": "code",
   "execution_count": 2,
   "id": "23a8b865-ec38-44a7-b700-dc9e71463728",
   "metadata": {},
   "outputs": [],
   "source": [
    "%load_ext autoreload\n",
    "%autoreload 2"
   ]
  },
  {
   "cell_type": "code",
   "execution_count": 3,
   "id": "39997db8-0db2-420a-a73d-2afc2e64379f",
   "metadata": {},
   "outputs": [],
   "source": [
    "from streamline.delayed import delay_lib, step, Delayed, eval_delay\n",
    "from streamline import RunEnv, load_runenv, Pipeline, Function, Var, DebugPipeline, Delete, VariablesDict\n",
    "from streamline.utilities import mainify"
   ]
  },
  {
   "cell_type": "code",
   "execution_count": 4,
   "id": "5079d91e-c2df-4d50-b941-99de18843469",
   "metadata": {},
   "outputs": [],
   "source": [
    "from typing import *\n",
    "import pandas as pd"
   ]
  },
  {
   "cell_type": "code",
   "execution_count": 5,
   "id": "deb70ea3-8b7e-435d-8562-8da58be6ca6c",
   "metadata": {},
   "outputs": [],
   "source": [
    "# import ray\n",
    "\n",
    "# ray.init()"
   ]
  },
  {
   "cell_type": "code",
   "execution_count": 6,
   "id": "bb0e0f0c-a172-42d6-bd24-bd815287bf54",
   "metadata": {},
   "outputs": [
    {
     "data": {
      "text/plain": [
       "{'s': 2, 't': 3, '_': (2, 3, 4), '__preamble__': {'__steps__': [{'step': Function(arg_cat='', tags={'function'}), 'kwargs': {}}, {'step': Delete(arg_cat='', tags={'delete'}), 'kwargs': {}}]}}"
      ]
     },
     "execution_count": 6,
     "metadata": {},
     "output_type": "execute_result"
    }
   ],
   "source": [
    "pipe2 = Pipeline([Function(lambda a, b, c: (a, b, c), args=[Var('s')], kw={'b': Var('t'), 'c': 4})]).add_delete([Var('m')])\n",
    "pipe2.run({'s': 2, 't': 3, 'm': 5})"
   ]
  },
  {
   "cell_type": "code",
   "execution_count": 7,
   "id": "50a11124-5a84-4af6-8ea0-2aa7714ca97e",
   "metadata": {},
   "outputs": [
    {
     "data": {
      "text/plain": [
       "{'n': 2, 'a': 3, '_': (2, 3, 4), '__preamble__': {'__steps__': [{'step': Function(arg_cat='', tags={'function'}), 'kwargs': {}}, {'step': Delete(arg_cat='', tags={'delete'}), 'kwargs': {}}]}}"
      ]
     },
     "execution_count": 7,
     "metadata": {},
     "output_type": "execute_result"
    }
   ],
   "source": [
    "pipe3 = pipe2.copy()\n",
    "pipe3.rename({'s': 'n', 't': 'a', 'm': 'd'})\n",
    "pipe3.run({'n': 2, 'a': 3, 'd': 4})"
   ]
  },
  {
   "cell_type": "code",
   "execution_count": 8,
   "id": "3162b077-111e-4f72-b604-2b73be110168",
   "metadata": {},
   "outputs": [
    {
     "data": {
      "text/plain": [
       "True"
      ]
     },
     "execution_count": 8,
     "metadata": {},
     "output_type": "execute_result"
    }
   ],
   "source": [
    "isinstance(OrderedDict(), dict)"
   ]
  },
  {
   "cell_type": "code",
   "execution_count": 9,
   "id": "222da6ab-cd22-4aee-8cf0-ac81dcf3f501",
   "metadata": {},
   "outputs": [],
   "source": [
    "renv = RunEnv({\n",
    "    'a': 3,\n",
    "    'df': pd.DataFrame([[4]])\n",
    "})\n",
    "\n",
    "renv.save(\n",
    "    './ex/'\n",
    ")\n",
    "# display(renv._env)\n",
    "renv2 = load_runenv('./ex/')"
   ]
  },
  {
   "cell_type": "code",
   "execution_count": 10,
   "id": "e46f0603-57bc-414b-b53c-a2ef945a5586",
   "metadata": {},
   "outputs": [
    {
     "name": "stdout",
     "output_type": "stream",
     "text": [
      "2266837786016\n"
     ]
    },
    {
     "data": {
      "text/plain": [
       "{'e': 'f_n',\n",
       " 'lst': [],\n",
       " 'np': <module 'numpy' from 'C:\\\\Users\\\\Nagato\\\\AppData\\\\Local\\\\Programs\\\\Python\\\\Python311\\\\Lib\\\\site-packages\\\\numpy\\\\__init__.py'>,\n",
       " 'pd': <module 'pandas' from 'C:\\\\Users\\\\Nagato\\\\AppData\\\\Local\\\\Programs\\\\Python\\\\Python311\\\\Lib\\\\site-packages\\\\pandas\\\\__init__.py'>,\n",
       " '__preamble__': {'__steps__': [{'step': Function(arg_cat='', tags={'function', 'import_lib'}),\n",
       "    'kwargs': {}},\n",
       "   {'step': Function(arg_cat='s', tags={'function'}), 'kwargs': {}},\n",
       "   {'step': Function(arg_cat='f', tags={'function'}),\n",
       "    'kwargs': {'s': 'f_d', 'e': 'f_n', 'h': 3}},\n",
       "   {'step': Function(arg_cat='', tags={'function'}), 'kwargs': {}},\n",
       "   {'step': Delete(arg_cat='', tags={'delete'}), 'kwargs': {}},\n",
       "   {'step': Function(arg_cat='', tags={'add_variables'}), 'kwargs': {}}]},\n",
       " '_': 3,\n",
       " 'b': 10,\n",
       " 'c': 'f_d',\n",
       " 'r': None,\n",
       " 'j': '3'}"
      ]
     },
     "execution_count": 10,
     "metadata": {},
     "output_type": "execute_result"
    }
   ],
   "source": [
    "import numpy as np\n",
    "import time\n",
    "\n",
    "def dummy():\n",
    "    print(id(time))\n",
    "    time.sleep(1)\n",
    "    return \n",
    "    \n",
    "def dummy2(env, kw):\n",
    "    env['myid'] = id(env)\n",
    "    env['lst'].append(id(env))\n",
    "\n",
    "pipe = Pipeline([\n",
    "    Function(lambda : 3, arg_cat='s')\n",
    "]).add_step(\n",
    "    step=Function(\n",
    "        fun=lambda x, s, e, f, h: (x**2+1, s, e, f, h),\n",
    "        args=Var('a'),\n",
    "        kw={'e': Var('a'), 'f': 8, 'h': 5},\n",
    "        out_var=('b', 'c', 'e', 'f', 'h'),\n",
    "        arg_cat='f',\n",
    "    )\n",
    ").add_import_lib(\n",
    "    {'numpy': 'np', 'pandas': 'pd'},    index=0\n",
    ").add_step(Function(dummy, out_var='r')).add_delete(\n",
    "    ['f', 'h', 'a']  # remove variables 'f' and 'h'\n",
    ").add_variables_dict({\n",
    "    'j': '3'\n",
    "})\n",
    "pipe\n",
    "env = pipe.run(RunEnv({'a': 3, 'e': 'k', 'lst': []}), {'f_s': 'f_d', 'f_e': 'f_n', 'f_h': 3})\n",
    "env._env"
   ]
  },
  {
   "cell_type": "code",
   "execution_count": 11,
   "id": "36194a96-472d-402c-9b51-206579a716dc",
   "metadata": {},
   "outputs": [],
   "source": [
    "# debug_pipe = DebugPipeline(pipe)\n",
    "# debug_pipe.loc[: 2]"
   ]
  },
  {
   "cell_type": "code",
   "execution_count": 12,
   "id": "3b566f5f-cdce-42d0-8175-017ca90774a9",
   "metadata": {},
   "outputs": [
    {
     "data": {
      "text/plain": [
       "[{'required_vars': set(),\n",
       "  'unresolved_vars': set(),\n",
       "  'unresolved_vars_accum': set(),\n",
       "  'env_vars': set(),\n",
       "  'removed_vars': set(),\n",
       "  'added_vars': {'np', 'pd'},\n",
       "  'steptype': 'Function',\n",
       "  'arg_cat': '',\n",
       "  'tags': {'function', 'import_lib'}},\n",
       " {'required_vars': set(),\n",
       "  'unresolved_vars': set(),\n",
       "  'unresolved_vars_accum': set(),\n",
       "  'env_vars': {'np', 'pd'},\n",
       "  'removed_vars': set(),\n",
       "  'added_vars': set(),\n",
       "  'steptype': 'Function',\n",
       "  'arg_cat': 's',\n",
       "  'tags': {'function'}},\n",
       " {'required_vars': {'a'},\n",
       "  'unresolved_vars': {'a'},\n",
       "  'unresolved_vars_accum': {'a'},\n",
       "  'env_vars': {'np', 'pd'},\n",
       "  'removed_vars': set(),\n",
       "  'added_vars': {'b', 'c', 'e', 'f', 'h'},\n",
       "  'steptype': 'Function',\n",
       "  'arg_cat': 'f',\n",
       "  'tags': {'function'}},\n",
       " {'required_vars': set(),\n",
       "  'unresolved_vars': set(),\n",
       "  'unresolved_vars_accum': {'a'},\n",
       "  'env_vars': {'b', 'c', 'e', 'f', 'h', 'np', 'pd'},\n",
       "  'removed_vars': set(),\n",
       "  'added_vars': {'r'},\n",
       "  'steptype': 'Function',\n",
       "  'arg_cat': '',\n",
       "  'tags': {'function'}},\n",
       " {'required_vars': set(),\n",
       "  'unresolved_vars': set(),\n",
       "  'unresolved_vars_accum': {'a'},\n",
       "  'env_vars': {'b', 'c', 'e', 'f', 'h', 'np', 'pd', 'r'},\n",
       "  'removed_vars': {'a', 'f', 'h'},\n",
       "  'added_vars': set(),\n",
       "  'steptype': 'Delete',\n",
       "  'arg_cat': '',\n",
       "  'tags': {'delete'}},\n",
       " {'required_vars': set(),\n",
       "  'unresolved_vars': set(),\n",
       "  'unresolved_vars_accum': {'a'},\n",
       "  'env_vars': {'b', 'c', 'e', 'np', 'pd', 'r'},\n",
       "  'removed_vars': set(),\n",
       "  'added_vars': {'j'},\n",
       "  'steptype': 'Function',\n",
       "  'arg_cat': '',\n",
       "  'tags': {'add_variables'}}]"
      ]
     },
     "execution_count": 12,
     "metadata": {},
     "output_type": "execute_result"
    }
   ],
   "source": [
    "pipe.get_env_info()"
   ]
  },
  {
   "cell_type": "code",
   "execution_count": 13,
   "id": "f7a0ed86-b0e9-4866-a85b-3ecbe929b843",
   "metadata": {},
   "outputs": [
    {
     "data": {
      "text/plain": [
       "[{'required_vars': set(),\n",
       "  'unresolved_vars': set(),\n",
       "  'unresolved_vars_accum': set(),\n",
       "  'env_vars': set(),\n",
       "  'removed_vars': set(),\n",
       "  'added_vars': {'pipe4_np', 'pipe4_pd'},\n",
       "  'steptype': 'Function',\n",
       "  'arg_cat': '',\n",
       "  'tags': {'function', 'import_lib'}},\n",
       " {'required_vars': set(),\n",
       "  'unresolved_vars': set(),\n",
       "  'unresolved_vars_accum': set(),\n",
       "  'env_vars': {'pipe4_np', 'pipe4_pd'},\n",
       "  'removed_vars': set(),\n",
       "  'added_vars': set(),\n",
       "  'steptype': 'Function',\n",
       "  'arg_cat': 's',\n",
       "  'tags': {'function'}},\n",
       " {'required_vars': {'pipe4_a'},\n",
       "  'unresolved_vars': {'pipe4_a'},\n",
       "  'unresolved_vars_accum': {'pipe4_a'},\n",
       "  'env_vars': {'pipe4_np', 'pipe4_pd'},\n",
       "  'removed_vars': set(),\n",
       "  'added_vars': {'pipe4_b', 'pipe4_c', 'pipe4_e', 'pipe4_f', 'pipe4_h'},\n",
       "  'steptype': 'Function',\n",
       "  'arg_cat': 'f',\n",
       "  'tags': {'function'}},\n",
       " {'required_vars': set(),\n",
       "  'unresolved_vars': set(),\n",
       "  'unresolved_vars_accum': {'pipe4_a'},\n",
       "  'env_vars': {'pipe4_b',\n",
       "   'pipe4_c',\n",
       "   'pipe4_e',\n",
       "   'pipe4_f',\n",
       "   'pipe4_h',\n",
       "   'pipe4_np',\n",
       "   'pipe4_pd'},\n",
       "  'removed_vars': set(),\n",
       "  'added_vars': {'pipe4_r'},\n",
       "  'steptype': 'Function',\n",
       "  'arg_cat': '',\n",
       "  'tags': {'function'}},\n",
       " {'required_vars': set(),\n",
       "  'unresolved_vars': set(),\n",
       "  'unresolved_vars_accum': {'pipe4_a'},\n",
       "  'env_vars': {'pipe4_b',\n",
       "   'pipe4_c',\n",
       "   'pipe4_e',\n",
       "   'pipe4_f',\n",
       "   'pipe4_h',\n",
       "   'pipe4_np',\n",
       "   'pipe4_pd',\n",
       "   'pipe4_r'},\n",
       "  'removed_vars': {'pipe4_a', 'pipe4_f', 'pipe4_h'},\n",
       "  'added_vars': set(),\n",
       "  'steptype': 'Delete',\n",
       "  'arg_cat': '',\n",
       "  'tags': {'delete'}},\n",
       " {'required_vars': set(),\n",
       "  'unresolved_vars': set(),\n",
       "  'unresolved_vars_accum': {'pipe4_a'},\n",
       "  'env_vars': {'pipe4_b',\n",
       "   'pipe4_c',\n",
       "   'pipe4_e',\n",
       "   'pipe4_np',\n",
       "   'pipe4_pd',\n",
       "   'pipe4_r'},\n",
       "  'removed_vars': set(),\n",
       "  'added_vars': {'pipe4_j'},\n",
       "  'steptype': 'Function',\n",
       "  'arg_cat': '',\n",
       "  'tags': {'add_variables'}}]"
      ]
     },
     "execution_count": 13,
     "metadata": {},
     "output_type": "execute_result"
    }
   ],
   "source": [
    "pipe4 = pipe.copy()\n",
    "pipe4.rename(lambda x: 'pipe4_'+x)\n",
    "pipe4.get_env_info()"
   ]
  },
  {
   "cell_type": "code",
   "execution_count": 14,
   "id": "7e130de4-a449-48a5-92dc-9319dc916646",
   "metadata": {},
   "outputs": [
    {
     "data": {
      "text/plain": [
       "Pipeline(steps=[\n",
       "  Function(arg_cat='', tags={'function', 'import_lib'}), \n",
       "  Function(arg_cat='s', tags={'function'})\n",
       "], )"
      ]
     },
     "execution_count": 14,
     "metadata": {},
     "output_type": "execute_result"
    }
   ],
   "source": [
    "pipe4.loc[:2].rename(lambda x: 'ss_'+x)"
   ]
  },
  {
   "cell_type": "code",
   "execution_count": 15,
   "id": "622374d5-2374-415b-ad0e-523292b518c3",
   "metadata": {},
   "outputs": [
    {
     "data": {
      "text/plain": [
       "[{'required_vars': set(),\n",
       "  'unresolved_vars': set(),\n",
       "  'unresolved_vars_accum': set(),\n",
       "  'env_vars': set(),\n",
       "  'removed_vars': set(),\n",
       "  'added_vars': {'ss_pipe4_np', 'ss_pipe4_pd'},\n",
       "  'steptype': 'Function',\n",
       "  'arg_cat': '',\n",
       "  'tags': {'function', 'import_lib'}},\n",
       " {'required_vars': set(),\n",
       "  'unresolved_vars': set(),\n",
       "  'unresolved_vars_accum': set(),\n",
       "  'env_vars': {'ss_pipe4_np', 'ss_pipe4_pd'},\n",
       "  'removed_vars': set(),\n",
       "  'added_vars': set(),\n",
       "  'steptype': 'Function',\n",
       "  'arg_cat': 's',\n",
       "  'tags': {'function'}},\n",
       " {'required_vars': {'pipe4_a'},\n",
       "  'unresolved_vars': {'pipe4_a'},\n",
       "  'unresolved_vars_accum': {'pipe4_a'},\n",
       "  'env_vars': {'ss_pipe4_np', 'ss_pipe4_pd'},\n",
       "  'removed_vars': set(),\n",
       "  'added_vars': {'pipe4_b', 'pipe4_c', 'pipe4_e', 'pipe4_f', 'pipe4_h'},\n",
       "  'steptype': 'Function',\n",
       "  'arg_cat': 'f',\n",
       "  'tags': {'function'}},\n",
       " {'required_vars': set(),\n",
       "  'unresolved_vars': set(),\n",
       "  'unresolved_vars_accum': {'pipe4_a'},\n",
       "  'env_vars': {'pipe4_b',\n",
       "   'pipe4_c',\n",
       "   'pipe4_e',\n",
       "   'pipe4_f',\n",
       "   'pipe4_h',\n",
       "   'ss_pipe4_np',\n",
       "   'ss_pipe4_pd'},\n",
       "  'removed_vars': set(),\n",
       "  'added_vars': {'pipe4_r'},\n",
       "  'steptype': 'Function',\n",
       "  'arg_cat': '',\n",
       "  'tags': {'function'}},\n",
       " {'required_vars': set(),\n",
       "  'unresolved_vars': set(),\n",
       "  'unresolved_vars_accum': {'pipe4_a'},\n",
       "  'env_vars': {'pipe4_b',\n",
       "   'pipe4_c',\n",
       "   'pipe4_e',\n",
       "   'pipe4_f',\n",
       "   'pipe4_h',\n",
       "   'pipe4_r',\n",
       "   'ss_pipe4_np',\n",
       "   'ss_pipe4_pd'},\n",
       "  'removed_vars': {'pipe4_a', 'pipe4_f', 'pipe4_h'},\n",
       "  'added_vars': set(),\n",
       "  'steptype': 'Delete',\n",
       "  'arg_cat': '',\n",
       "  'tags': {'delete'}},\n",
       " {'required_vars': set(),\n",
       "  'unresolved_vars': set(),\n",
       "  'unresolved_vars_accum': {'pipe4_a'},\n",
       "  'env_vars': {'pipe4_b',\n",
       "   'pipe4_c',\n",
       "   'pipe4_e',\n",
       "   'pipe4_r',\n",
       "   'ss_pipe4_np',\n",
       "   'ss_pipe4_pd'},\n",
       "  'removed_vars': set(),\n",
       "  'added_vars': {'pipe4_j'},\n",
       "  'steptype': 'Function',\n",
       "  'arg_cat': '',\n",
       "  'tags': {'add_variables'}}]"
      ]
     },
     "execution_count": 15,
     "metadata": {},
     "output_type": "execute_result"
    }
   ],
   "source": [
    "pipe4.get_env_info()"
   ]
  },
  {
   "cell_type": "code",
   "execution_count": 16,
   "id": "da65b238-0e2d-4842-9e98-fe00070fb412",
   "metadata": {},
   "outputs": [
    {
     "data": {
      "text/plain": [
       "True"
      ]
     },
     "execution_count": 16,
     "metadata": {},
     "output_type": "execute_result"
    }
   ],
   "source": [
    "isinstance(slice(None), slice)"
   ]
  },
  {
   "cell_type": "code",
   "execution_count": 17,
   "id": "349b29b6-bc5b-4047-bf07-b826e568020f",
   "metadata": {},
   "outputs": [
    {
     "data": {
      "text/plain": [
       "[Function(arg_cat='', tags={'function', 'import_lib'}),\n",
       " Function(arg_cat='s', tags={'function'}),\n",
       " Function(arg_cat='f', tags={'function'}),\n",
       " Function(arg_cat='', tags={'function'}),\n",
       " Delete(arg_cat='', tags={'delete'}),\n",
       " Function(arg_cat='', tags={'add_variables'})]"
      ]
     },
     "execution_count": 17,
     "metadata": {},
     "output_type": "execute_result"
    }
   ],
   "source": [
    "pipe.to_list()"
   ]
  },
  {
   "cell_type": "code",
   "execution_count": 18,
   "id": "8b122b00-b895-4953-b2f1-1354ad9ff1e9",
   "metadata": {},
   "outputs": [
    {
     "name": "stdout",
     "output_type": "stream",
     "text": [
      "2266837786016\n"
     ]
    },
    {
     "data": {
      "text/plain": [
       "{'e': 'f_n', 'lst': [], 'np': <module 'numpy' from 'C:\\\\Users\\\\Nagato\\\\AppData\\\\Local\\\\Programs\\\\Python\\\\Python311\\\\Lib\\\\site-packages\\\\numpy\\\\__init__.py'>, 'pd': <module 'pandas' from 'C:\\\\Users\\\\Nagato\\\\AppData\\\\Local\\\\Programs\\\\Python\\\\Python311\\\\Lib\\\\site-packages\\\\pandas\\\\__init__.py'>, '__preamble__': {'__steps__': [{'step': Function(arg_cat='', tags={'function', 'import_lib'}), 'kwargs': {}}, {'step': Function(arg_cat='s', tags={'function'}), 'kwargs': {}}, {'step': Function(arg_cat='f', tags={'function'}), 'kwargs': {'s': 'f_d', 'e': 'f_n', 'h': 3}}, {'step': Function(arg_cat='', tags={'function'}), 'kwargs': {}}, {'step': Delete(arg_cat='', tags={'delete'}), 'kwargs': {}}, {'step': Function(arg_cat='', tags={'add_variables'}), 'kwargs': {}}]}, '_': 3, 'b': 10, 'c': 'f_d', 'r': None, 'j': '3'}"
      ]
     },
     "execution_count": 18,
     "metadata": {},
     "output_type": "execute_result"
    }
   ],
   "source": [
    "pipe.run(RunEnv({'a': 3, 'e': 'k', 'lst': []}), {'f_s': 'f_d', 'f_e': 'f_n', 'f_h': 3})"
   ]
  },
  {
   "cell_type": "code",
   "execution_count": 19,
   "id": "edb72186-4ca7-466a-94fc-89586285c8da",
   "metadata": {},
   "outputs": [
    {
     "name": "stderr",
     "output_type": "stream",
     "text": [
      "2025-04-03 22:33:08,834\tINFO worker.py:1832 -- Started a local Ray instance. View the dashboard at \u001b[1m\u001b[32mhttp://127.0.0.1:8266 \u001b[39m\u001b[22m\n"
     ]
    },
    {
     "name": "stdout",
     "output_type": "stream",
     "text": [
      "\u001b[36m(<lambda> pid=49732)\u001b[0m 2584947631072\n",
      "\u001b[36m(<lambda> pid=41588)\u001b[0m 2907111990240\n",
      "\u001b[36m(<lambda> pid=49732)\u001b[0m 2584947631072\n",
      "\u001b[36m(<lambda> pid=41588)\u001b[0m 2907111990240\n",
      "\u001b[36m(<lambda> pid=47380)\u001b[0m 2432504472544\n",
      "\u001b[36m(<lambda> pid=41320)\u001b[0m 2337813996512\n",
      "\u001b[36m(<lambda> pid=50076)\u001b[0m 2209785029600\n",
      "\u001b[36m(<lambda> pid=9528)\u001b[0m 2457206760416\n",
      "\u001b[36m(<lambda> pid=6012)\u001b[0m 2744852587488\n",
      "\u001b[36m(<lambda> pid=40600)\u001b[0m 2548385686496\n",
      "\u001b[36m(<lambda> pid=41520)\u001b[0m 2061231825888\n",
      "\u001b[36m(<lambda> pid=41700)\u001b[0m 2878643741664\n"
     ]
    }
   ],
   "source": [
    "from streamline.pipeline import run_parallel\n",
    "\n",
    "res_par = run_parallel([\n",
    "    (pipe, {'a': 3, 'e': 'k', 'lst': []}, {'f_s': 'f_d', 'f_e': 'f_n', 'f_h': 3}),\n",
    "    (pipe, {'a': 3, 'e': 'k', 'lst': []}, {'f_s': 'f_d', 'f_e': 'f_n', 'f_h': 3}),\n",
    "])"
   ]
  },
  {
   "cell_type": "code",
   "execution_count": 20,
   "id": "c350944e-14e0-46ce-bbaa-fa8215f02ced",
   "metadata": {},
   "outputs": [
    {
     "data": {
      "text/plain": [
       "{'e': 'f_n', 'lst': [], 'np': <module 'numpy' from 'C:\\\\Users\\\\Nagato\\\\AppData\\\\Local\\\\Programs\\\\Python\\\\Python311\\\\Lib\\\\site-packages\\\\numpy\\\\__init__.py'>, 'pd': <module 'pandas' from 'C:\\\\Users\\\\Nagato\\\\AppData\\\\Local\\\\Programs\\\\Python\\\\Python311\\\\Lib\\\\site-packages\\\\pandas\\\\__init__.py'>, '__preamble__': {'__steps__': [{'step': Function(arg_cat='', tags={'function', 'import_lib'}), 'kwargs': {}}, {'step': Function(arg_cat='s', tags={'function'}), 'kwargs': {}}, {'step': Function(arg_cat='f', tags={'function'}), 'kwargs': {'s': 'f_d', 'e': 'f_n', 'h': 3}}, {'step': Function(arg_cat='', tags={'function'}), 'kwargs': {}}, {'step': Delete(arg_cat='', tags={'delete'}), 'kwargs': {}}, {'step': Function(arg_cat='', tags={'add_variables'}), 'kwargs': {}}]}, '_': 3, 'b': 10, 'c': 'f_d', 'r': None, 'j': '3'}"
      ]
     },
     "execution_count": 20,
     "metadata": {},
     "output_type": "execute_result"
    }
   ],
   "source": [
    "res_par[1]"
   ]
  },
  {
   "cell_type": "code",
   "execution_count": 21,
   "id": "158bcbf8-800d-4ac3-9031-0484e0269a11",
   "metadata": {},
   "outputs": [
    {
     "data": {
      "text/plain": [
       "'s'"
      ]
     },
     "execution_count": 21,
     "metadata": {},
     "output_type": "execute_result"
    }
   ],
   "source": [
    "from streamline import eval_delay, step\n",
    "\n",
    "eval_delay(step.arg_cat, {'step': Function(lambda x: x, arg_cat='s')})"
   ]
  },
  {
   "cell_type": "code",
   "execution_count": 22,
   "id": "6b45a88e-b4d3-438a-9a2e-c4320eb4f777",
   "metadata": {},
   "outputs": [
    {
     "data": {
      "text/plain": [
       "[[{'e': 'f_n', 'lst': [], 'np': <module 'numpy' from 'C:\\\\Users\\\\Nagato\\\\AppData\\\\Local\\\\Programs\\\\Python\\\\Python311\\\\Lib\\\\site-packages\\\\numpy\\\\__init__.py'>, 'pd': <module 'pandas' from 'C:\\\\Users\\\\Nagato\\\\AppData\\\\Local\\\\Programs\\\\Python\\\\Python311\\\\Lib\\\\site-packages\\\\pandas\\\\__init__.py'>, '__preamble__': {'__steps__': [{'step': Function(arg_cat='', tags={'function', 'import_lib'}), 'kwargs': {}}, {'step': Function(arg_cat='s', tags={'function'}), 'kwargs': {}}, {'step': Function(arg_cat='f', tags={'function'}), 'kwargs': {'s': 'f_d', 'e': 'f_n', 'h': 0}}, {'step': Function(arg_cat='', tags={'function'}), 'kwargs': {}}, {'step': Delete(arg_cat='', tags={'delete'}), 'kwargs': {}}, {'step': Function(arg_cat='', tags={'add_variables'}), 'kwargs': {}}]}, '_': 3, 'b': 10, 'c': 'f_d', 'r': None, 'j': '3'},\n",
       "  {'e': 'f_n', 'lst': [], 'np': <module 'numpy' from 'C:\\\\Users\\\\Nagato\\\\AppData\\\\Local\\\\Programs\\\\Python\\\\Python311\\\\Lib\\\\site-packages\\\\numpy\\\\__init__.py'>, 'pd': <module 'pandas' from 'C:\\\\Users\\\\Nagato\\\\AppData\\\\Local\\\\Programs\\\\Python\\\\Python311\\\\Lib\\\\site-packages\\\\pandas\\\\__init__.py'>, '__preamble__': {'__steps__': [{'step': Function(arg_cat='', tags={'function', 'import_lib'}), 'kwargs': {}}, {'step': Function(arg_cat='s', tags={'function'}), 'kwargs': {}}, {'step': Function(arg_cat='f', tags={'function'}), 'kwargs': {'s': 'f_d', 'e': 'f_n', 'h': 1}}, {'step': Function(arg_cat='', tags={'function'}), 'kwargs': {}}, {'step': Delete(arg_cat='', tags={'delete'}), 'kwargs': {}}, {'step': Function(arg_cat='', tags={'add_variables'}), 'kwargs': {}}]}, '_': 3, 'b': 10, 'c': 'f_d', 'r': None, 'j': '3'},\n",
       "  {'e': 'f_n', 'lst': [], 'np': <module 'numpy' from 'C:\\\\Users\\\\Nagato\\\\AppData\\\\Local\\\\Programs\\\\Python\\\\Python311\\\\Lib\\\\site-packages\\\\numpy\\\\__init__.py'>, 'pd': <module 'pandas' from 'C:\\\\Users\\\\Nagato\\\\AppData\\\\Local\\\\Programs\\\\Python\\\\Python311\\\\Lib\\\\site-packages\\\\pandas\\\\__init__.py'>, '__preamble__': {'__steps__': [{'step': Function(arg_cat='', tags={'function', 'import_lib'}), 'kwargs': {}}, {'step': Function(arg_cat='s', tags={'function'}), 'kwargs': {}}, {'step': Function(arg_cat='f', tags={'function'}), 'kwargs': {'s': 'f_d', 'e': 'f_n', 'h': 2}}, {'step': Function(arg_cat='', tags={'function'}), 'kwargs': {}}, {'step': Delete(arg_cat='', tags={'delete'}), 'kwargs': {}}, {'step': Function(arg_cat='', tags={'add_variables'}), 'kwargs': {}}]}, '_': 3, 'b': 10, 'c': 'f_d', 'r': None, 'j': '3'},\n",
       "  {'e': 'f_n', 'lst': [], 'np': <module 'numpy' from 'C:\\\\Users\\\\Nagato\\\\AppData\\\\Local\\\\Programs\\\\Python\\\\Python311\\\\Lib\\\\site-packages\\\\numpy\\\\__init__.py'>, 'pd': <module 'pandas' from 'C:\\\\Users\\\\Nagato\\\\AppData\\\\Local\\\\Programs\\\\Python\\\\Python311\\\\Lib\\\\site-packages\\\\pandas\\\\__init__.py'>, '__preamble__': {'__steps__': [{'step': Function(arg_cat='', tags={'function', 'import_lib'}), 'kwargs': {}}, {'step': Function(arg_cat='s', tags={'function'}), 'kwargs': {}}, {'step': Function(arg_cat='f', tags={'function'}), 'kwargs': {'s': 'f_d', 'e': 'f_n', 'h': 3}}, {'step': Function(arg_cat='', tags={'function'}), 'kwargs': {}}, {'step': Delete(arg_cat='', tags={'delete'}), 'kwargs': {}}, {'step': Function(arg_cat='', tags={'add_variables'}), 'kwargs': {}}]}, '_': 3, 'b': 10, 'c': 'f_d', 'r': None, 'j': '3'},\n",
       "  {'e': 'f_n', 'lst': [], 'np': <module 'numpy' from 'C:\\\\Users\\\\Nagato\\\\AppData\\\\Local\\\\Programs\\\\Python\\\\Python311\\\\Lib\\\\site-packages\\\\numpy\\\\__init__.py'>, 'pd': <module 'pandas' from 'C:\\\\Users\\\\Nagato\\\\AppData\\\\Local\\\\Programs\\\\Python\\\\Python311\\\\Lib\\\\site-packages\\\\pandas\\\\__init__.py'>, '__preamble__': {'__steps__': [{'step': Function(arg_cat='', tags={'function', 'import_lib'}), 'kwargs': {}}, {'step': Function(arg_cat='s', tags={'function'}), 'kwargs': {}}, {'step': Function(arg_cat='f', tags={'function'}), 'kwargs': {'s': 'f_d', 'e': 'f_n', 'h': 4}}, {'step': Function(arg_cat='', tags={'function'}), 'kwargs': {}}, {'step': Delete(arg_cat='', tags={'delete'}), 'kwargs': {}}, {'step': Function(arg_cat='', tags={'add_variables'}), 'kwargs': {}}]}, '_': 3, 'b': 10, 'c': 'f_d', 'r': None, 'j': '3'},\n",
       "  {'e': 'f_n', 'lst': [], 'np': <module 'numpy' from 'C:\\\\Users\\\\Nagato\\\\AppData\\\\Local\\\\Programs\\\\Python\\\\Python311\\\\Lib\\\\site-packages\\\\numpy\\\\__init__.py'>, 'pd': <module 'pandas' from 'C:\\\\Users\\\\Nagato\\\\AppData\\\\Local\\\\Programs\\\\Python\\\\Python311\\\\Lib\\\\site-packages\\\\pandas\\\\__init__.py'>, '__preamble__': {'__steps__': [{'step': Function(arg_cat='', tags={'function', 'import_lib'}), 'kwargs': {}}, {'step': Function(arg_cat='s', tags={'function'}), 'kwargs': {}}, {'step': Function(arg_cat='f', tags={'function'}), 'kwargs': {'s': 'f_d', 'e': 'f_n', 'h': 5}}, {'step': Function(arg_cat='', tags={'function'}), 'kwargs': {}}, {'step': Delete(arg_cat='', tags={'delete'}), 'kwargs': {}}, {'step': Function(arg_cat='', tags={'add_variables'}), 'kwargs': {}}]}, '_': 3, 'b': 10, 'c': 'f_d', 'r': None, 'j': '3'},\n",
       "  {'e': 'f_n', 'lst': [], 'np': <module 'numpy' from 'C:\\\\Users\\\\Nagato\\\\AppData\\\\Local\\\\Programs\\\\Python\\\\Python311\\\\Lib\\\\site-packages\\\\numpy\\\\__init__.py'>, 'pd': <module 'pandas' from 'C:\\\\Users\\\\Nagato\\\\AppData\\\\Local\\\\Programs\\\\Python\\\\Python311\\\\Lib\\\\site-packages\\\\pandas\\\\__init__.py'>, '__preamble__': {'__steps__': [{'step': Function(arg_cat='', tags={'function', 'import_lib'}), 'kwargs': {}}, {'step': Function(arg_cat='s', tags={'function'}), 'kwargs': {}}, {'step': Function(arg_cat='f', tags={'function'}), 'kwargs': {'s': 'f_d', 'e': 'f_n', 'h': 6}}, {'step': Function(arg_cat='', tags={'function'}), 'kwargs': {}}, {'step': Delete(arg_cat='', tags={'delete'}), 'kwargs': {}}, {'step': Function(arg_cat='', tags={'add_variables'}), 'kwargs': {}}]}, '_': 3, 'b': 10, 'c': 'f_d', 'r': None, 'j': '3'},\n",
       "  {'e': 'f_n', 'lst': [], 'np': <module 'numpy' from 'C:\\\\Users\\\\Nagato\\\\AppData\\\\Local\\\\Programs\\\\Python\\\\Python311\\\\Lib\\\\site-packages\\\\numpy\\\\__init__.py'>, 'pd': <module 'pandas' from 'C:\\\\Users\\\\Nagato\\\\AppData\\\\Local\\\\Programs\\\\Python\\\\Python311\\\\Lib\\\\site-packages\\\\pandas\\\\__init__.py'>, '__preamble__': {'__steps__': [{'step': Function(arg_cat='', tags={'function', 'import_lib'}), 'kwargs': {}}, {'step': Function(arg_cat='s', tags={'function'}), 'kwargs': {}}, {'step': Function(arg_cat='f', tags={'function'}), 'kwargs': {'s': 'f_d', 'e': 'f_n', 'h': 7}}, {'step': Function(arg_cat='', tags={'function'}), 'kwargs': {}}, {'step': Delete(arg_cat='', tags={'delete'}), 'kwargs': {}}, {'step': Function(arg_cat='', tags={'add_variables'}), 'kwargs': {}}]}, '_': 3, 'b': 10, 'c': 'f_d', 'r': None, 'j': '3'},\n",
       "  {'e': 'f_n', 'lst': [], 'np': <module 'numpy' from 'C:\\\\Users\\\\Nagato\\\\AppData\\\\Local\\\\Programs\\\\Python\\\\Python311\\\\Lib\\\\site-packages\\\\numpy\\\\__init__.py'>, 'pd': <module 'pandas' from 'C:\\\\Users\\\\Nagato\\\\AppData\\\\Local\\\\Programs\\\\Python\\\\Python311\\\\Lib\\\\site-packages\\\\pandas\\\\__init__.py'>, '__preamble__': {'__steps__': [{'step': Function(arg_cat='', tags={'function', 'import_lib'}), 'kwargs': {}}, {'step': Function(arg_cat='s', tags={'function'}), 'kwargs': {}}, {'step': Function(arg_cat='f', tags={'function'}), 'kwargs': {'s': 'f_d', 'e': 'f_n', 'h': 8}}, {'step': Function(arg_cat='', tags={'function'}), 'kwargs': {}}, {'step': Delete(arg_cat='', tags={'delete'}), 'kwargs': {}}, {'step': Function(arg_cat='', tags={'add_variables'}), 'kwargs': {}}]}, '_': 3, 'b': 10, 'c': 'f_d', 'r': None, 'j': '3'},\n",
       "  {'e': 'f_n', 'lst': [], 'np': <module 'numpy' from 'C:\\\\Users\\\\Nagato\\\\AppData\\\\Local\\\\Programs\\\\Python\\\\Python311\\\\Lib\\\\site-packages\\\\numpy\\\\__init__.py'>, 'pd': <module 'pandas' from 'C:\\\\Users\\\\Nagato\\\\AppData\\\\Local\\\\Programs\\\\Python\\\\Python311\\\\Lib\\\\site-packages\\\\pandas\\\\__init__.py'>, '__preamble__': {'__steps__': [{'step': Function(arg_cat='', tags={'function', 'import_lib'}), 'kwargs': {}}, {'step': Function(arg_cat='s', tags={'function'}), 'kwargs': {}}, {'step': Function(arg_cat='f', tags={'function'}), 'kwargs': {'s': 'f_d', 'e': 'f_n', 'h': 9}}, {'step': Function(arg_cat='', tags={'function'}), 'kwargs': {}}, {'step': Delete(arg_cat='', tags={'delete'}), 'kwargs': {}}, {'step': Function(arg_cat='', tags={'add_variables'}), 'kwargs': {}}]}, '_': 3, 'b': 10, 'c': 'f_d', 'r': None, 'j': '3'}]]"
      ]
     },
     "execution_count": 22,
     "metadata": {},
     "output_type": "execute_result"
    }
   ],
   "source": [
    "base_env = RunEnv({'a': 3, 'e': 'k', 'lst': []})\n",
    "env_l = pipe.run_parallel([base_env], [{'f_s': 'f_d', 'f_e': 'f_n', 'f_h': i} for i in range(10)])\n",
    "env_l"
   ]
  },
  {
   "cell_type": "code",
   "execution_count": 23,
   "id": "14bee71f-b59b-4964-90c9-878b5964ba5d",
   "metadata": {},
   "outputs": [
    {
     "data": {
      "text/plain": [
       "[]"
      ]
     },
     "execution_count": 23,
     "metadata": {},
     "output_type": "execute_result"
    }
   ],
   "source": [
    "base_env['lst']"
   ]
  },
  {
   "cell_type": "code",
   "execution_count": 24,
   "id": "ba22ffed-216f-4020-a636-1e64a0264f7e",
   "metadata": {},
   "outputs": [
    {
     "data": {
      "text/plain": [
       "[[], [], [], [], [], [], [], [], [], []]"
      ]
     },
     "execution_count": 24,
     "metadata": {},
     "output_type": "execute_result"
    }
   ],
   "source": [
    "[c['lst'] for c in env_l[0]]"
   ]
  },
  {
   "cell_type": "code",
   "execution_count": 25,
   "id": "4a90ab1b-2818-46f6-8171-71c8435718cb",
   "metadata": {},
   "outputs": [
    {
     "data": {
      "text/plain": [
       "[[0, 1, 2, 3, 4], [5, 6, 7, 8, 9]]"
      ]
     },
     "execution_count": 25,
     "metadata": {},
     "output_type": "execute_result"
    }
   ],
   "source": [
    "s = list(range(10))\n",
    "s = [s[i:i+5] for i in range(0, 10, 5)]\n",
    "s"
   ]
  },
  {
   "cell_type": "code",
   "execution_count": 26,
   "id": "73510715-2ed3-4fae-b721-ff9b8d033bb4",
   "metadata": {},
   "outputs": [
    {
     "data": {
      "text/plain": [
       "Pipeline(steps=[\n",
       "  Function(arg_cat='', tags={'function', 'import_lib'}), \n",
       "  Function(arg_cat='s', tags={'function'}), \n",
       "  Function(arg_cat='f', tags={'function'}), \n",
       "  Function(arg_cat='', tags={'function'}), \n",
       "  Delete(arg_cat='', tags={'delete'}), \n",
       "  Function(arg_cat='', tags={'add_variables'})\n",
       "], )"
      ]
     },
     "execution_count": 26,
     "metadata": {},
     "output_type": "execute_result"
    }
   ],
   "source": [
    "env.gen_pipeline()"
   ]
  },
  {
   "cell_type": "code",
   "execution_count": 27,
   "id": "2e311710-8987-45ad-a6ef-cf5d35d4f4de",
   "metadata": {},
   "outputs": [
    {
     "data": {
      "text/plain": [
       "Pipeline(steps=[\n",
       "  Function(arg_cat='', tags={'function', 'import_lib'}), \n",
       "  Function(arg_cat='s', tags={'function'}), \n",
       "  Function(arg_cat='f', tags={'function'}), \n",
       "  Function(arg_cat='', tags={'function'}), \n",
       "  Delete(arg_cat='', tags={'delete'}), \n",
       "  Function(arg_cat='', tags={'add_variables'})\n",
       "], )"
      ]
     },
     "execution_count": 27,
     "metadata": {},
     "output_type": "execute_result"
    }
   ],
   "source": [
    "pipe"
   ]
  },
  {
   "cell_type": "code",
   "execution_count": 28,
   "id": "1cd7fbdb-0ac2-4b6e-886b-d90d0aaec34c",
   "metadata": {},
   "outputs": [
    {
     "data": {
      "text/plain": [
       "Pipeline(steps=[\n",
       "  Function(arg_cat='', tags={'function', 'import_lib'}), \n",
       "  Function(arg_cat='s', tags={'function'})\n",
       "], )"
      ]
     },
     "execution_count": 28,
     "metadata": {},
     "output_type": "execute_result"
    }
   ],
   "source": [
    "pipe.loc[[0, 1]]"
   ]
  },
  {
   "cell_type": "code",
   "execution_count": 29,
   "id": "5688baf3-0821-4e32-975d-030dc6d4d872",
   "metadata": {},
   "outputs": [],
   "source": [
    "pipe.loc[[0, 1]] = Function(arg_cat='d', fun=lambda x: x)"
   ]
  },
  {
   "cell_type": "code",
   "execution_count": 30,
   "id": "6de66f5c-59ee-47c1-a318-f42e2b6ca793",
   "metadata": {},
   "outputs": [
    {
     "data": {
      "text/plain": [
       "Pipeline(steps=[\n",
       "  Function(arg_cat='d', tags={'function'}), \n",
       "  Function(arg_cat='d', tags={'function'}), \n",
       "  Function(arg_cat='f', tags={'function'}), \n",
       "  Function(arg_cat='', tags={'function'}), \n",
       "  Delete(arg_cat='', tags={'delete'}), \n",
       "  Function(arg_cat='', tags={'add_variables'})\n",
       "], )"
      ]
     },
     "execution_count": 30,
     "metadata": {},
     "output_type": "execute_result"
    }
   ],
   "source": [
    "pipe"
   ]
  },
  {
   "cell_type": "code",
   "execution_count": 31,
   "id": "a8f0a564-9f20-4f88-8330-50e1478fbec2",
   "metadata": {},
   "outputs": [
    {
     "data": {
      "text/plain": [
       "step.arg_cat.startswith(*('s',), **{})"
      ]
     },
     "execution_count": 31,
     "metadata": {},
     "output_type": "execute_result"
    }
   ],
   "source": [
    "step.arg_cat.startswith('s')"
   ]
  },
  {
   "cell_type": "code",
   "execution_count": 32,
   "id": "dfd8cbd6-c1d6-425e-bcd1-83b5a31d736d",
   "metadata": {},
   "outputs": [
    {
     "data": {
      "text/plain": [
       "Pipeline(steps=[\n",
       "  Function(arg_cat='d', tags={'function'}), \n",
       "  Function(arg_cat='d', tags={'function'})\n",
       "], )"
      ]
     },
     "execution_count": 32,
     "metadata": {},
     "output_type": "execute_result"
    }
   ],
   "source": [
    "pipe.loc[step.arg_cat.startswith('d')]"
   ]
  },
  {
   "cell_type": "code",
   "execution_count": 33,
   "id": "f9401090-d5bb-4601-92ea-61c4b51743fe",
   "metadata": {},
   "outputs": [
    {
     "data": {
      "text/plain": [
       "Pipeline(steps=[\n",
       "], )"
      ]
     },
     "execution_count": 33,
     "metadata": {},
     "output_type": "execute_result"
    }
   ],
   "source": [
    "pipe.loc[pipe.map(lambda x: x.tags is None)]"
   ]
  },
  {
   "cell_type": "code",
   "execution_count": 34,
   "id": "86b81b14-1635-421b-869c-bdd1d948dc4e",
   "metadata": {},
   "outputs": [
    {
     "data": {
      "text/plain": [
       "[Function(arg_cat='d', tags={'function'}),\n",
       " Function(arg_cat='d', tags={'function'}),\n",
       " Function(arg_cat='f', tags={'function'}),\n",
       " Function(arg_cat='', tags={'function'}),\n",
       " Delete(arg_cat='', tags={'delete'}),\n",
       " Function(arg_cat='', tags={'add_variables'})]"
      ]
     },
     "execution_count": 34,
     "metadata": {},
     "output_type": "execute_result"
    }
   ],
   "source": [
    "pipe.to_list()"
   ]
  },
  {
   "cell_type": "code",
   "execution_count": 35,
   "id": "cb60fbad-b6b6-4a59-bf50-1a9271235faf",
   "metadata": {},
   "outputs": [
    {
     "data": {
      "text/plain": [
       "(3 in step.tags)"
      ]
     },
     "execution_count": 35,
     "metadata": {},
     "output_type": "execute_result"
    }
   ],
   "source": [
    "step.tags.contains(3)"
   ]
  },
  {
   "cell_type": "code",
   "execution_count": 36,
   "id": "5bda9c32-7026-449f-a08c-43270a7bf55d",
   "metadata": {},
   "outputs": [
    {
     "name": "stdout",
     "output_type": "stream",
     "text": [
      "(type(*(((3 in step.tags) & (1 in step.tags)),), **{}).__name__ in ['bool'])\n"
     ]
    },
    {
     "data": {
      "text/plain": [
       "True"
      ]
     },
     "execution_count": 36,
     "metadata": {},
     "output_type": "execute_result"
    }
   ],
   "source": [
    "step = Delayed(prefix='step')\n",
    "d = delay_lib.type((step.tags.contains(3)) & (step.tags.contains(1))).__name__.isin(['bool'])\n",
    "print(d)\n",
    "eval_delay(d, env={'step': Function(arg_cat='s', fun=lambda x: x, tags={1, 2})})"
   ]
  },
  {
   "cell_type": "code",
   "execution_count": 37,
   "id": "129ecd43-a2f4-4898-95fb-8e97ea4f4f07",
   "metadata": {},
   "outputs": [
    {
     "data": {
      "text/plain": [
       "False"
      ]
     },
     "execution_count": 37,
     "metadata": {},
     "output_type": "execute_result"
    }
   ],
   "source": [
    "eval_delay(step.tags.contains(3), env={'step': Function(arg_cat='s', fun=lambda x: x, tags={1, 2})})"
   ]
  },
  {
   "cell_type": "code",
   "execution_count": 38,
   "id": "3d1c62d8-24f1-4974-b39c-a11e016f0471",
   "metadata": {},
   "outputs": [],
   "source": [
    "a = RunEnv({\n",
    "    'a': 1,\n",
    "    'b': 'test',\n",
    "    'c': [1, 2, 3],\n",
    "    'd': {'key': 'value'}\n",
    "})"
   ]
  },
  {
   "cell_type": "code",
   "execution_count": 39,
   "id": "c7384032-f59f-44cc-8774-727680036bc4",
   "metadata": {},
   "outputs": [],
   "source": [
    "from copy import deepcopy\n",
    "\n",
    "b = deepcopy(a)"
   ]
  },
  {
   "cell_type": "code",
   "execution_count": 40,
   "id": "c4e54f4f-48ce-4824-9fed-89e496a5ebc6",
   "metadata": {},
   "outputs": [],
   "source": [
    "a['c'].append(4)"
   ]
  },
  {
   "cell_type": "code",
   "execution_count": 41,
   "id": "7b5b37d8-02d6-46f2-b962-b50b88128427",
   "metadata": {},
   "outputs": [
    {
     "data": {
      "text/plain": [
       "{'a': 1, 'b': 'test', 'c': [1, 2, 3, 4], 'd': {'key': 'value'}}"
      ]
     },
     "execution_count": 41,
     "metadata": {},
     "output_type": "execute_result"
    }
   ],
   "source": [
    "a"
   ]
  },
  {
   "cell_type": "code",
   "execution_count": 42,
   "id": "9a4cd905-78ca-4640-a279-53f3a983ae94",
   "metadata": {},
   "outputs": [
    {
     "data": {
      "text/plain": [
       "{'a': 1, 'b': 'test', 'c': [1, 2, 3], 'd': {'key': 'value'}}"
      ]
     },
     "execution_count": 42,
     "metadata": {},
     "output_type": "execute_result"
    }
   ],
   "source": [
    "b"
   ]
  },
  {
   "cell_type": "code",
   "execution_count": 43,
   "id": "ddeda626-fd94-496a-a057-6a666b2e6645",
   "metadata": {},
   "outputs": [],
   "source": [
    "# p1 = Pipeline([Function(lambda x: x + 1, args=['x'], out_var='y')])\n",
    "p1 = Pipeline([Function(lambda x: x+1, args=[Var('x')], out_var='y')])\n",
    "p2 = Pipeline([Function(lambda y: y * 2, args=[Var('y')], out_var='z')])\n",
    "\n",
    "# Add pipelines\n",
    "p3 = p1 + p2\n",
    "assert len(p3) == 2\n",
    "\n",
    "# Test running combined pipeline\n",
    "result = p3.run({'x': 5})\n",
    "assert result.get('z') == 12  # (5 + 1) * 2 = 12"
   ]
  },
  {
   "cell_type": "code",
   "execution_count": 44,
   "id": "c0b7d6d1-0852-4170-ab47-313d64799820",
   "metadata": {},
   "outputs": [
    {
     "name": "stdout",
     "output_type": "stream",
     "text": [
      "['new_var1', Var('new_var2')]\n"
     ]
    }
   ],
   "source": [
    "delete = Delete(args=['var1', Var('var2')])\n",
    "\n",
    "# Test renaming with dictionary\n",
    "delete.rename({'var1': 'new_var1', 'var2': 'new_var2'})\n",
    "assert delete.args == ['new_var1', Var('new_var2')]\n",
    "\n",
    "print(delete.args)\n",
    "\n",
    "# Test renaming with function\n",
    "delete.rename(lambda x: 'prefix_' + x)\n",
    "assert delete.args == ['prefix_new_var1', Var('prefix_new_var2')]"
   ]
  },
  {
   "cell_type": "code",
   "execution_count": 45,
   "id": "ca09e9c6-7c05-4c71-acee-0d6e74784f04",
   "metadata": {},
   "outputs": [],
   "source": [
    "p = Pipeline([\n",
    "    # Step 0: Initialization\n",
    "    VariablesDict({'initial': 10, 'config': 'test'}),\n",
    "    \n",
    "    # Step 1: First transformation\n",
    "    Function(lambda initial: initial * 2, args=[Var('initial')], out_var='doubled'),\n",
    "    \n",
    "    # Step 2: Second transformation using initial and doubled\n",
    "    Function(lambda initial, doubled: initial + doubled, args=[Var('initial'), Var('doubled')], out_var='combined'),\n",
    "    \n",
    "    # Step 3: A branch that only depends on initial\n",
    "    Function(lambda initial: initial ** 2, args=[Var('initial')], out_var='squared'),\n",
    "    \n",
    "    # Step 4: A branch that only depends on doubled\n",
    "    Function(lambda doubled: doubled - 5, args=[Var('doubled')], out_var='adjusted'),\n",
    "    \n",
    "    # Step 5: A transform using two intermediate results\n",
    "    Function(lambda combined, squared: combined / squared, args=[Var('combined'), Var('squared')], out_var='ratio'),\n",
    "    \n",
    "    # Step 6: Cleaning up intermediate results\n",
    "    Delete([Var('doubled'), Var('squared')]),\n",
    "    \n",
    "    # Step 7: Final calculation using multiple inputs\n",
    "    Function(lambda adjusted, ratio, config: f\"{config}: {adjusted + ratio}\", \n",
    "            args=[Var('adjusted'), Var('ratio'), Var('config')], out_var='result')\n",
    "])"
   ]
  },
  {
   "cell_type": "code",
   "execution_count": 47,
   "id": "1a81dff0-7b33-469d-9089-7f63e9adf732",
   "metadata": {},
   "outputs": [
    {
     "ename": "AssertionError",
     "evalue": "Full graph should have the same number of steps as the original pipeline",
     "output_type": "error",
     "traceback": [
      "\u001b[1;31m---------------------------------------------------------------------------\u001b[0m",
      "\u001b[1;31mAssertionError\u001b[0m                            Traceback (most recent call last)",
      "Cell \u001b[1;32mIn[47], line 3\u001b[0m\n\u001b[0;32m      1\u001b[0m \u001b[38;5;66;03m# Test 1: Full pipeline - with specified inputs and outputs (should return the whole pipeline)\u001b[39;00m\n\u001b[0;32m      2\u001b[0m full_graph \u001b[38;5;241m=\u001b[39m p\u001b[38;5;241m.\u001b[39mget_subgraph([\u001b[38;5;124m'\u001b[39m\u001b[38;5;124minitial\u001b[39m\u001b[38;5;124m'\u001b[39m, \u001b[38;5;124m'\u001b[39m\u001b[38;5;124mconfig\u001b[39m\u001b[38;5;124m'\u001b[39m], [\u001b[38;5;124m'\u001b[39m\u001b[38;5;124mresult\u001b[39m\u001b[38;5;124m'\u001b[39m])\n\u001b[1;32m----> 3\u001b[0m \u001b[38;5;28;01massert\u001b[39;00m \u001b[38;5;28mlen\u001b[39m(full_graph) \u001b[38;5;241m==\u001b[39m \u001b[38;5;28mlen\u001b[39m(p), \u001b[38;5;124m\"\u001b[39m\u001b[38;5;124mFull graph should have the same number of steps as the original pipeline\u001b[39m\u001b[38;5;124m\"\u001b[39m\n",
      "\u001b[1;31mAssertionError\u001b[0m: Full graph should have the same number of steps as the original pipeline"
     ]
    }
   ],
   "source": [
    "\n",
    "# Test 1: Full pipeline - with specified inputs and outputs (should return the whole pipeline)\n",
    "full_graph = p.get_subgraph(['initial', 'config'], ['result'])\n",
    "assert len(full_graph) == len(p), \"Full graph should have the same number of steps as the original pipeline\"\n"
   ]
  },
  {
   "cell_type": "code",
   "execution_count": 48,
   "id": "10d4e8b8-3b83-44bb-86bd-337475fa124c",
   "metadata": {},
   "outputs": [
    {
     "data": {
      "text/plain": [
       "Pipeline(steps=[\n",
       "  Function(arg_cat='', tags={'function'}), \n",
       "  Function(arg_cat='', tags={'function'}), \n",
       "  Function(arg_cat='', tags={'function'}), \n",
       "  Function(arg_cat='', tags={'function'}), \n",
       "  Function(arg_cat='', tags={'function'}), \n",
       "  Function(arg_cat='', tags={'function'})\n",
       "], )"
      ]
     },
     "execution_count": 48,
     "metadata": {},
     "output_type": "execute_result"
    }
   ],
   "source": [
    "full_graph"
   ]
  },
  {
   "cell_type": "code",
   "execution_count": 50,
   "id": "3b3fffd6-7588-4436-bd05-66c9e6360078",
   "metadata": {},
   "outputs": [
    {
     "data": {
      "text/plain": [
       "[]"
      ]
     },
     "execution_count": 50,
     "metadata": {},
     "output_type": "execute_result"
    }
   ],
   "source": [
    "VariablesDict({'initial': 10, 'config': 'test'}).get_dependencies()"
   ]
  }
 ],
 "metadata": {
  "kernelspec": {
   "display_name": "Python 3 (ipykernel)",
   "language": "python",
   "name": "python3"
  },
  "language_info": {
   "codemirror_mode": {
    "name": "ipython",
    "version": 3
   },
   "file_extension": ".py",
   "mimetype": "text/x-python",
   "name": "python",
   "nbconvert_exporter": "python",
   "pygments_lexer": "ipython3",
   "version": "3.11.6"
  }
 },
 "nbformat": 4,
 "nbformat_minor": 5
}
