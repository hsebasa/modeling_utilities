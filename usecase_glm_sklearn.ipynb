{
 "cells": [
  {
   "cell_type": "code",
   "execution_count": 1,
   "id": "fec00815-c989-4ce4-b5cc-1a2386aef01e",
   "metadata": {},
   "outputs": [],
   "source": [
    "# pip install frozendict \n",
    "# pip install pyarrow\n",
    "# pip install -e ./modeling_package\n",
    "# pip install ray[default]"
   ]
  },
  {
   "cell_type": "code",
   "execution_count": 2,
   "id": "b1a7fc11-3737-4a46-99e2-b134d98f73d4",
   "metadata": {},
   "outputs": [],
   "source": [
    "# add p-value to feature selection"
   ]
  },
  {
   "cell_type": "code",
   "execution_count": 3,
   "id": "23a8b865-ec38-44a7-b700-dc9e71463728",
   "metadata": {},
   "outputs": [],
   "source": [
    "%load_ext autoreload\n",
    "%autoreload 2"
   ]
  },
  {
   "cell_type": "code",
   "execution_count": 4,
   "id": "4514c9b5-7d0f-4494-8d45-ae683ac4a57c",
   "metadata": {},
   "outputs": [],
   "source": [
    "from standard_modeling.utilities import StatsModelsRegressor, gen_scorer"
   ]
  },
  {
   "cell_type": "code",
   "execution_count": 5,
   "id": "1c4cffe0-0b73-4bad-aa0a-2cc4794ac60c",
   "metadata": {},
   "outputs": [
    {
     "name": "stdout",
     "output_type": "stream",
     "text": [
      "                            OLS Regression Results                            \n",
      "==============================================================================\n",
      "Dep. Variable:                      y   R-squared:                       0.528\n",
      "Model:                            OLS   Adj. R-squared:                  0.514\n",
      "Method:                 Least Squares   F-statistic:                     38.25\n",
      "Date:                Mon, 17 Mar 2025   Prob (F-statistic):           5.41e-50\n",
      "Time:                        21:52:21   Log-Likelihood:                -1906.1\n",
      "No. Observations:                 353   AIC:                             3834.\n",
      "Df Residuals:                     342   BIC:                             3877.\n",
      "Df Model:                          10                                         \n",
      "Covariance Type:            nonrobust                                         \n",
      "==============================================================================\n",
      "                 coef    std err          t      P>|t|      [0.025      0.975]\n",
      "------------------------------------------------------------------------------\n",
      "const        151.3456      2.902     52.155      0.000     145.638     157.053\n",
      "x1            37.9040     69.056      0.549      0.583     -97.923     173.731\n",
      "x2          -241.9644     68.570     -3.529      0.000    -376.836    -107.093\n",
      "x3           542.4288     76.956      7.049      0.000     391.062     693.795\n",
      "x4           347.7038     71.357      4.873      0.000     207.350     488.057\n",
      "x5          -931.4888    451.138     -2.065      0.040   -1818.844     -44.134\n",
      "x6           518.0623    364.114      1.423      0.156    -198.122    1234.247\n",
      "x7           163.4200    233.014      0.701      0.484    -294.901     621.741\n",
      "x8           275.3179    185.400      1.485      0.138     -89.349     639.985\n",
      "x9           736.1989    192.437      3.826      0.000     357.689    1114.709\n",
      "x10           48.6707     73.435      0.663      0.508     -95.771     193.113\n",
      "==============================================================================\n",
      "Omnibus:                        1.457   Durbin-Watson:                   1.794\n",
      "Prob(Omnibus):                  0.483   Jarque-Bera (JB):                1.412\n",
      "Skew:                           0.064   Prob(JB):                        0.494\n",
      "Kurtosis:                       2.718   Cond. No.                         219.\n",
      "==============================================================================\n",
      "\n",
      "Notes:\n",
      "[1] Standard Errors assume that the covariance matrix of the errors is correctly specified.\n",
      "R^2 Score: 0.4526\n",
      "Cross-validation scores: [0.42955615 0.52259939 0.48268054 0.42649776 0.55024834]\n",
      "Mean CV score: 0.4823\n"
     ]
    }
   ],
   "source": [
    "from sklearn.datasets import load_diabetes\n",
    "from sklearn.model_selection import train_test_split, cross_val_score\n",
    "from sklearn.pipeline import Pipeline\n",
    "from sklearn.preprocessing import StandardScaler\n",
    "import statsmodels.api as sm\n",
    "import numpy as np\n",
    "\n",
    "# Load example data\n",
    "X, y = load_diabetes(return_X_y=True)\n",
    "X_train, X_test, y_train, y_test = train_test_split(X, y, test_size=0.2, random_state=42)\n",
    "\n",
    "# Create and fit a simple OLS model\n",
    "model = StatsModelsRegressor(model_class=sm.OLS)\n",
    "model.fit(X_train, y_train)\n",
    "\n",
    "# Print model summary (statsmodels feature)\n",
    "print(model.summary)\n",
    "\n",
    "# Make predictions (sklearn-like)\n",
    "y_pred = model.predict(X_test)\n",
    "\n",
    "# Calculate R^2 score\n",
    "score = model.score(X_test, y_test)\n",
    "print(f\"R^2 Score: {score:.4f}\")\n",
    "\n",
    "# Use in a scikit-learn pipeline\n",
    "pipeline = Pipeline([\n",
    "    ('scaler', StandardScaler()),\n",
    "    ('regressor', StatsModelsRegressor(model_class=sm.OLS))\n",
    "])\n",
    "\n",
    "# Perform cross-validation (sklearn feature)\n",
    "cv_scores = cross_val_score(pipeline, X, y, cv=5)\n",
    "print(f\"Cross-validation scores: {cv_scores}\")\n",
    "print(f\"Mean CV score: {cv_scores.mean():.4f}\")"
   ]
  },
  {
   "cell_type": "code",
   "execution_count": 6,
   "id": "11ccf94e-5168-42b4-8abd-a9342f25bd49",
   "metadata": {},
   "outputs": [
    {
     "data": {
      "text/plain": [
       "0.45260276297192037"
      ]
     },
     "execution_count": 6,
     "metadata": {},
     "output_type": "execute_result"
    }
   ],
   "source": [
    "scorer = gen_scorer('r2')\n",
    "scorer(y_test, y_pred)"
   ]
  },
  {
   "cell_type": "code",
   "execution_count": null,
   "id": "586f169d-300e-4ae1-b6c1-1dfd56881668",
   "metadata": {},
   "outputs": [],
   "source": []
  }
 ],
 "metadata": {
  "kernelspec": {
   "display_name": "Python 3 (ipykernel)",
   "language": "python",
   "name": "python3"
  },
  "language_info": {
   "codemirror_mode": {
    "name": "ipython",
    "version": 3
   },
   "file_extension": ".py",
   "mimetype": "text/x-python",
   "name": "python",
   "nbconvert_exporter": "python",
   "pygments_lexer": "ipython3",
   "version": "3.11.6"
  }
 },
 "nbformat": 4,
 "nbformat_minor": 5
}
