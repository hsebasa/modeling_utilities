{
 "cells": [
  {
   "cell_type": "code",
   "execution_count": 1,
   "id": "85d479bb-b826-409b-bdb7-a9c2ff6a0c61",
   "metadata": {},
   "outputs": [
    {
     "name": "stdout",
     "output_type": "stream",
     "text": [
      "Variable 'x':\n",
      "  Depends on: set()\n",
      "  Defined in __main__: True\n",
      "  Dependencies in main: set()\n",
      "  Dependencies outside main: set()\n",
      "\n",
      "Variable 'y':\n",
      "  Depends on: {'x'}\n",
      "  Defined in __main__: True\n",
      "  Dependencies in main: {'x'}\n",
      "  Dependencies outside main: set()\n",
      "\n",
      "Variable 'z':\n",
      "  Depends on: {'y', 'a'}\n",
      "  Defined in __main__: True\n",
      "  Dependencies in main: {'y'}\n",
      "  Dependencies outside main: {'a'}\n",
      "\n"
     ]
    }
   ],
   "source": [
    "import ast\n",
    "\n",
    "def get_variable_dependencies(source_code):\n",
    "    tree = ast.parse(source_code)\n",
    "    dependencies = {}\n",
    "\n",
    "    global_vars = set()  # To track global variables\n",
    "\n",
    "    class DependencyAnalyzer(ast.NodeVisitor):\n",
    "        def visit_Assign(self, node):\n",
    "            # Get the variable names on the left-hand side\n",
    "            if isinstance(node.targets[0], ast.Name):\n",
    "                var_name = node.targets[0].id\n",
    "                # Get variable dependencies from the right-hand side\n",
    "                used_vars = set()\n",
    "                for subnode in ast.walk(node.value):\n",
    "                    if isinstance(subnode, ast.Name) and isinstance(subnode.ctx, ast.Load):\n",
    "                        used_vars.add(subnode.id)\n",
    "\n",
    "                dependencies[var_name] = {\"depends_on\": used_vars}\n",
    "            \n",
    "            self.generic_visit(node)\n",
    "\n",
    "        def visit_FunctionDef(self, node):\n",
    "            # Skip function bodies since they are not in __main__\n",
    "            pass\n",
    "\n",
    "    # Collect global variables\n",
    "    class GlobalVarCollector(ast.NodeVisitor):\n",
    "        def visit_Assign(self, node):\n",
    "            if isinstance(node.targets[0], ast.Name):\n",
    "                global_vars.add(node.targets[0].id)\n",
    "            self.generic_visit(node)\n",
    "\n",
    "    # First, collect all global variables\n",
    "    GlobalVarCollector().visit(tree)\n",
    "\n",
    "    # Then, analyze dependencies\n",
    "    DependencyAnalyzer().visit(tree)\n",
    "\n",
    "    # Mark whether dependencies were defined in __main__ or not\n",
    "    for var, info in dependencies.items():\n",
    "        info[\"defined_in_main\"] = var in global_vars\n",
    "        info[\"depends_on_in_main\"] = {var for var in info[\"depends_on\"] if var in global_vars}\n",
    "        info[\"depends_on_outside_main\"] = info[\"depends_on\"] - info[\"depends_on_in_main\"]\n",
    "\n",
    "    return dependencies\n",
    "\n",
    "# Example usage:\n",
    "code = \"\"\"\n",
    "x = 5\n",
    "y = x + 2\n",
    "z = y * a\n",
    "def func():\n",
    "    b = 3\n",
    "    return b + x\n",
    "\"\"\"\n",
    "\n",
    "dependencies = get_variable_dependencies(code)\n",
    "for var, info in dependencies.items():\n",
    "    print(f\"Variable '{var}':\")\n",
    "    print(f\"  Depends on: {info['depends_on']}\")\n",
    "    print(f\"  Defined in __main__: {info['defined_in_main']}\")\n",
    "    print(f\"  Dependencies in main: {info['depends_on_in_main']}\")\n",
    "    print(f\"  Dependencies outside main: {info['depends_on_outside_main']}\")\n",
    "    print()"
   ]
  },
  {
   "cell_type": "code",
   "execution_count": 2,
   "id": "24bf99d2-b458-4c27-b711-64b4b001e8e0",
   "metadata": {},
   "outputs": [
    {
     "name": "stdout",
     "output_type": "stream",
     "text": [
      "Dependencies of 'y': set()\n",
      "Dependencies of 'z': set()\n"
     ]
    }
   ],
   "source": [
    "import inspect\n",
    "\n",
    "def get_variable_dependencies_runtime(var_name, global_scope):\n",
    "    if var_name not in global_scope:\n",
    "        raise ValueError(f\"Variable '{var_name}' is not defined.\")\n",
    "\n",
    "    code_lines = inspect.getsourcelines(global_scope[var_name])[0] if inspect.isfunction(global_scope[var_name]) else []\n",
    "    \n",
    "    dependencies = set()\n",
    "    for line in code_lines:\n",
    "        tokens = line.split()\n",
    "        for token in tokens:\n",
    "            if token in global_scope and token != var_name:\n",
    "                dependencies.add(token)\n",
    "\n",
    "    return dependencies\n",
    "\n",
    "# Example usage\n",
    "x = 5\n",
    "y = x + 2\n",
    "z = y * 3\n",
    "\n",
    "# Check dependencies\n",
    "print(\"Dependencies of 'y':\", get_variable_dependencies_runtime('y', globals()))\n",
    "print(\"Dependencies of 'z':\", get_variable_dependencies_runtime('z', globals()))"
   ]
  },
  {
   "cell_type": "code",
   "execution_count": 3,
   "id": "a1dfac8e-9124-4c90-b8fc-9da6b06fcad9",
   "metadata": {},
   "outputs": [
    {
     "name": "stdout",
     "output_type": "stream",
     "text": [
      "Dependencies of some_function: {'GLOBAL_VAR_1': 10}\n",
      "Dependencies of another_function: {'GLOBAL_VAR_2': 'Hello'}\n"
     ]
    }
   ],
   "source": [
    "import inspect\n",
    "\n",
    "# Global variables\n",
    "GLOBAL_VAR_1 = 10\n",
    "GLOBAL_VAR_2 = \"Hello\"\n",
    "\n",
    "def some_function():\n",
    "    return GLOBAL_VAR_1 + 5  # This function depends on GLOBAL_VAR_1\n",
    "\n",
    "def another_function():\n",
    "    print(GLOBAL_VAR_2)  # This function depends on GLOBAL_VAR_2\n",
    "\n",
    "def analyze_function_dependencies(func):\n",
    "    \"\"\"Analyze function dependencies on global variables.\"\"\"\n",
    "    closure_vars = inspect.getclosurevars(func)\n",
    "    return closure_vars.globals  # Returns the global variables referenced in the function\n",
    "\n",
    "# Check dependencies\n",
    "print(\"Dependencies of some_function:\", analyze_function_dependencies(some_function))\n",
    "print(\"Dependencies of another_function:\", analyze_function_dependencies(another_function))"
   ]
  },
  {
   "cell_type": "code",
   "execution_count": 4,
   "id": "e17d735f-b6f6-4369-9999-8fc3854793dc",
   "metadata": {},
   "outputs": [
    {
     "name": "stdout",
     "output_type": "stream",
     "text": [
      "{'function': 'some_function', 'dependencies': {'GLOBAL_VAR_1'}, 'defined_in_main': {'GLOBAL_VAR_1'}, 'imported': set()}\n"
     ]
    }
   ],
   "source": [
    "def analyze_function_globals(func):\n",
    "    \"\"\"Check if a function depends on variables defined in __main__.\"\"\"\n",
    "    closure_vars = inspect.getclosurevars(func).globals\n",
    "    dependencies = set(closure_vars.keys())\n",
    "\n",
    "    results = {}\n",
    "    for var in dependencies:\n",
    "        var_obj = globals().get(var, None)\n",
    "        if var_obj is not None:\n",
    "            # Try to get __module__ if available\n",
    "            var_module = getattr(var_obj, \"__module__\", None)\n",
    "            if var_module is None:  \n",
    "                # If no __module__, assume it's defined in __main__ if it's a built-in type\n",
    "                var_module = \"__main__\" if type(var_obj).__module__ == \"builtins\" else \"imported\"\n",
    "\n",
    "            results[var] = var_module == \"__main__\"  # True if from main, False if imported\n",
    "\n",
    "    return {\n",
    "        \"function\": func.__name__,\n",
    "        \"dependencies\": dependencies,\n",
    "        \"defined_in_main\": {var for var, is_main in results.items() if is_main},\n",
    "        \"imported\": {var for var, is_main in results.items() if not is_main}\n",
    "    }\n",
    "# Analyze functions\n",
    "print(analyze_function_globals(some_function))"
   ]
  },
  {
   "cell_type": "code",
   "execution_count": 5,
   "id": "a3ba618e-1187-4898-99de-8f65e38c2084",
   "metadata": {},
   "outputs": [
    {
     "name": "stdout",
     "output_type": "stream",
     "text": [
      "{'function': 'f', 'dependencies': {'a', 'np'}, 'defined_in_main': {'a', 'np'}, 'imported': set()}\n"
     ]
    }
   ],
   "source": [
    "from module3 import a\n",
    "import numpy as np\n",
    "\n",
    "\n",
    "def f():\n",
    "    np.sum\n",
    "    print(a)\n",
    "print(analyze_function_globals(f))"
   ]
  },
  {
   "cell_type": "code",
   "execution_count": 6,
   "id": "f4329a1e-30ae-41a4-b6f6-4e393cce339e",
   "metadata": {},
   "outputs": [
    {
     "data": {
      "text/plain": [
       "int"
      ]
     },
     "execution_count": 6,
     "metadata": {},
     "output_type": "execute_result"
    }
   ],
   "source": [
    "type(a)"
   ]
  },
  {
   "cell_type": "code",
   "execution_count": 7,
   "id": "b2de4d79-a24a-48e7-88c6-09ea035bb7bf",
   "metadata": {},
   "outputs": [
    {
     "data": {
      "text/plain": [
       "5"
      ]
     },
     "execution_count": 7,
     "metadata": {},
     "output_type": "execute_result"
    }
   ],
   "source": [
    "import __main__\n",
    "b = 5\n",
    "\n",
    "__main__.__dict__['a']"
   ]
  },
  {
   "cell_type": "code",
   "execution_count": null,
   "id": "dc99dff6-201d-4f23-b8aa-eb48cf758f0a",
   "metadata": {},
   "outputs": [],
   "source": []
  }
 ],
 "metadata": {
  "kernelspec": {
   "display_name": "Python 3 (ipykernel)",
   "language": "python",
   "name": "python3"
  },
  "language_info": {
   "codemirror_mode": {
    "name": "ipython",
    "version": 3
   },
   "file_extension": ".py",
   "mimetype": "text/x-python",
   "name": "python",
   "nbconvert_exporter": "python",
   "pygments_lexer": "ipython3",
   "version": "3.11.6"
  }
 },
 "nbformat": 4,
 "nbformat_minor": 5
}
