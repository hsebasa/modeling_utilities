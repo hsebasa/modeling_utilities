{
 "cells": [
  {
   "cell_type": "code",
   "execution_count": 1,
   "id": "be6ca6f3-2fd9-460f-ad50-588222a5b869",
   "metadata": {},
   "outputs": [],
   "source": [
    "%load_ext autoreload\n",
    "%autoreload 2"
   ]
  },
  {
   "cell_type": "code",
   "execution_count": 3,
   "id": "41ada97c-07cd-4915-b073-6dc5a4c1d373",
   "metadata": {},
   "outputs": [],
   "source": [
    "from typing import *\n",
    "import pandas as pd"
   ]
  },
  {
   "cell_type": "code",
   "execution_count": 4,
   "id": "588a5246-b2be-4eea-b383-fdb0cde41cdc",
   "metadata": {},
   "outputs": [],
   "source": [
    "from streamline.delayed import delay_lib, step, Delayed, eval_delay\n",
    "from streamline import RunEnv, load_runenv, DebugPipeline, Pipeline, Function, Var, DebugPipeline, Delete, VariablesDict\n",
    "from streamline.utilities import mainify"
   ]
  },
  {
   "cell_type": "code",
   "execution_count": null,
   "id": "ea9e3600-c3b2-4de3-b479-f4680d8c8a77",
   "metadata": {},
   "outputs": [],
   "source": []
  }
 ],
 "metadata": {
  "kernelspec": {
   "display_name": "Python 3 (ipykernel)",
   "language": "python",
   "name": "python3"
  },
  "language_info": {
   "codemirror_mode": {
    "name": "ipython",
    "version": 3
   },
   "file_extension": ".py",
   "mimetype": "text/x-python",
   "name": "python",
   "nbconvert_exporter": "python",
   "pygments_lexer": "ipython3",
   "version": "3.11.6"
  }
 },
 "nbformat": 4,
 "nbformat_minor": 5
}
